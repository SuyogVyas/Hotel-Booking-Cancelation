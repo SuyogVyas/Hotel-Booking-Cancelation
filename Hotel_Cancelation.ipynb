{
 "cells": [
  {
   "cell_type": "code",
   "execution_count": 1124,
   "metadata": {},
   "outputs": [],
   "source": [
    "import pandas as pd\n",
    "import numpy as np\n",
    "import matplotlib.pyplot as plt\n",
    "import seaborn as sns"
   ]
  },
  {
   "cell_type": "code",
   "execution_count": 1125,
   "metadata": {},
   "outputs": [],
   "source": [
    "train_data = pd.read_csv(\"train.csv\")\n",
    "test_data = pd.read_csv(\"test.csv\")"
   ]
  },
  {
   "cell_type": "code",
   "execution_count": 1126,
   "metadata": {},
   "outputs": [
    {
     "data": {
      "text/html": [
       "<div>\n",
       "<style scoped>\n",
       "    .dataframe tbody tr th:only-of-type {\n",
       "        vertical-align: middle;\n",
       "    }\n",
       "\n",
       "    .dataframe tbody tr th {\n",
       "        vertical-align: top;\n",
       "    }\n",
       "\n",
       "    .dataframe thead th {\n",
       "        text-align: right;\n",
       "    }\n",
       "</style>\n",
       "<table border=\"1\" class=\"dataframe\">\n",
       "  <thead>\n",
       "    <tr style=\"text-align: right;\">\n",
       "      <th></th>\n",
       "      <th>hotel</th>\n",
       "      <th>is_canceled</th>\n",
       "      <th>lead_time</th>\n",
       "      <th>arrival_date_year</th>\n",
       "      <th>arrival_date_month</th>\n",
       "      <th>arrival_date_week_number</th>\n",
       "      <th>arrival_date_day_of_month</th>\n",
       "      <th>stays_in_weekend_nights</th>\n",
       "      <th>stays_in_week_nights</th>\n",
       "      <th>adults</th>\n",
       "      <th>...</th>\n",
       "      <th>deposit_type</th>\n",
       "      <th>agent</th>\n",
       "      <th>company</th>\n",
       "      <th>days_in_waiting_list</th>\n",
       "      <th>customer_type</th>\n",
       "      <th>adr</th>\n",
       "      <th>required_car_parking_spaces</th>\n",
       "      <th>total_of_special_requests</th>\n",
       "      <th>reservation_status</th>\n",
       "      <th>reservation_status_date</th>\n",
       "    </tr>\n",
       "  </thead>\n",
       "  <tbody>\n",
       "    <tr>\n",
       "      <th>0</th>\n",
       "      <td>Resort Hotel</td>\n",
       "      <td>1</td>\n",
       "      <td>1</td>\n",
       "      <td>2017</td>\n",
       "      <td>February</td>\n",
       "      <td>5</td>\n",
       "      <td>4</td>\n",
       "      <td>0</td>\n",
       "      <td>1</td>\n",
       "      <td>2</td>\n",
       "      <td>...</td>\n",
       "      <td>No Deposit</td>\n",
       "      <td>240.0</td>\n",
       "      <td>NaN</td>\n",
       "      <td>0</td>\n",
       "      <td>Transient</td>\n",
       "      <td>48.0</td>\n",
       "      <td>0</td>\n",
       "      <td>0</td>\n",
       "      <td>Canceled</td>\n",
       "      <td>04-02-2017</td>\n",
       "    </tr>\n",
       "    <tr>\n",
       "      <th>1</th>\n",
       "      <td>Resort Hotel</td>\n",
       "      <td>1</td>\n",
       "      <td>1</td>\n",
       "      <td>2017</td>\n",
       "      <td>February</td>\n",
       "      <td>5</td>\n",
       "      <td>4</td>\n",
       "      <td>0</td>\n",
       "      <td>1</td>\n",
       "      <td>1</td>\n",
       "      <td>...</td>\n",
       "      <td>No Deposit</td>\n",
       "      <td>240.0</td>\n",
       "      <td>NaN</td>\n",
       "      <td>0</td>\n",
       "      <td>Transient</td>\n",
       "      <td>43.0</td>\n",
       "      <td>0</td>\n",
       "      <td>0</td>\n",
       "      <td>Canceled</td>\n",
       "      <td>04-02-2017</td>\n",
       "    </tr>\n",
       "    <tr>\n",
       "      <th>2</th>\n",
       "      <td>Resort Hotel</td>\n",
       "      <td>1</td>\n",
       "      <td>0</td>\n",
       "      <td>2017</td>\n",
       "      <td>February</td>\n",
       "      <td>5</td>\n",
       "      <td>4</td>\n",
       "      <td>0</td>\n",
       "      <td>1</td>\n",
       "      <td>2</td>\n",
       "      <td>...</td>\n",
       "      <td>No Deposit</td>\n",
       "      <td>NaN</td>\n",
       "      <td>NaN</td>\n",
       "      <td>0</td>\n",
       "      <td>Transient</td>\n",
       "      <td>48.0</td>\n",
       "      <td>0</td>\n",
       "      <td>2</td>\n",
       "      <td>Canceled</td>\n",
       "      <td>04-02-2017</td>\n",
       "    </tr>\n",
       "    <tr>\n",
       "      <th>3</th>\n",
       "      <td>Resort Hotel</td>\n",
       "      <td>1</td>\n",
       "      <td>1</td>\n",
       "      <td>2017</td>\n",
       "      <td>February</td>\n",
       "      <td>5</td>\n",
       "      <td>4</td>\n",
       "      <td>0</td>\n",
       "      <td>1</td>\n",
       "      <td>1</td>\n",
       "      <td>...</td>\n",
       "      <td>No Deposit</td>\n",
       "      <td>240.0</td>\n",
       "      <td>NaN</td>\n",
       "      <td>0</td>\n",
       "      <td>Transient</td>\n",
       "      <td>43.0</td>\n",
       "      <td>0</td>\n",
       "      <td>0</td>\n",
       "      <td>Canceled</td>\n",
       "      <td>04-02-2017</td>\n",
       "    </tr>\n",
       "    <tr>\n",
       "      <th>4</th>\n",
       "      <td>Resort Hotel</td>\n",
       "      <td>1</td>\n",
       "      <td>29</td>\n",
       "      <td>2017</td>\n",
       "      <td>February</td>\n",
       "      <td>5</td>\n",
       "      <td>4</td>\n",
       "      <td>1</td>\n",
       "      <td>1</td>\n",
       "      <td>2</td>\n",
       "      <td>...</td>\n",
       "      <td>No Deposit</td>\n",
       "      <td>242.0</td>\n",
       "      <td>NaN</td>\n",
       "      <td>0</td>\n",
       "      <td>Transient</td>\n",
       "      <td>74.1</td>\n",
       "      <td>0</td>\n",
       "      <td>2</td>\n",
       "      <td>Canceled</td>\n",
       "      <td>19-01-2017</td>\n",
       "    </tr>\n",
       "  </tbody>\n",
       "</table>\n",
       "<p>5 rows × 32 columns</p>\n",
       "</div>"
      ],
      "text/plain": [
       "          hotel  is_canceled  lead_time  arrival_date_year arrival_date_month  \\\n",
       "0  Resort Hotel            1          1               2017           February   \n",
       "1  Resort Hotel            1          1               2017           February   \n",
       "2  Resort Hotel            1          0               2017           February   \n",
       "3  Resort Hotel            1          1               2017           February   \n",
       "4  Resort Hotel            1         29               2017           February   \n",
       "\n",
       "   arrival_date_week_number  arrival_date_day_of_month  \\\n",
       "0                         5                          4   \n",
       "1                         5                          4   \n",
       "2                         5                          4   \n",
       "3                         5                          4   \n",
       "4                         5                          4   \n",
       "\n",
       "   stays_in_weekend_nights  stays_in_week_nights  adults  ...  deposit_type  \\\n",
       "0                        0                     1       2  ...    No Deposit   \n",
       "1                        0                     1       1  ...    No Deposit   \n",
       "2                        0                     1       2  ...    No Deposit   \n",
       "3                        0                     1       1  ...    No Deposit   \n",
       "4                        1                     1       2  ...    No Deposit   \n",
       "\n",
       "   agent company days_in_waiting_list customer_type   adr  \\\n",
       "0  240.0     NaN                    0     Transient  48.0   \n",
       "1  240.0     NaN                    0     Transient  43.0   \n",
       "2    NaN     NaN                    0     Transient  48.0   \n",
       "3  240.0     NaN                    0     Transient  43.0   \n",
       "4  242.0     NaN                    0     Transient  74.1   \n",
       "\n",
       "   required_car_parking_spaces  total_of_special_requests  reservation_status  \\\n",
       "0                            0                          0            Canceled   \n",
       "1                            0                          0            Canceled   \n",
       "2                            0                          2            Canceled   \n",
       "3                            0                          0            Canceled   \n",
       "4                            0                          2            Canceled   \n",
       "\n",
       "  reservation_status_date  \n",
       "0              04-02-2017  \n",
       "1              04-02-2017  \n",
       "2              04-02-2017  \n",
       "3              04-02-2017  \n",
       "4              19-01-2017  \n",
       "\n",
       "[5 rows x 32 columns]"
      ]
     },
     "execution_count": 1126,
     "metadata": {},
     "output_type": "execute_result"
    }
   ],
   "source": [
    "train_data.head()"
   ]
  },
  {
   "cell_type": "code",
   "execution_count": 1127,
   "metadata": {},
   "outputs": [
    {
     "data": {
      "text/html": [
       "<div>\n",
       "<style scoped>\n",
       "    .dataframe tbody tr th:only-of-type {\n",
       "        vertical-align: middle;\n",
       "    }\n",
       "\n",
       "    .dataframe tbody tr th {\n",
       "        vertical-align: top;\n",
       "    }\n",
       "\n",
       "    .dataframe thead th {\n",
       "        text-align: right;\n",
       "    }\n",
       "</style>\n",
       "<table border=\"1\" class=\"dataframe\">\n",
       "  <thead>\n",
       "    <tr style=\"text-align: right;\">\n",
       "      <th></th>\n",
       "      <th>hotel</th>\n",
       "      <th>is_canceled</th>\n",
       "      <th>lead_time</th>\n",
       "      <th>arrival_date_year</th>\n",
       "      <th>arrival_date_month</th>\n",
       "      <th>arrival_date_week_number</th>\n",
       "      <th>arrival_date_day_of_month</th>\n",
       "      <th>stays_in_weekend_nights</th>\n",
       "      <th>stays_in_week_nights</th>\n",
       "      <th>adults</th>\n",
       "      <th>...</th>\n",
       "      <th>deposit_type</th>\n",
       "      <th>agent</th>\n",
       "      <th>company</th>\n",
       "      <th>days_in_waiting_list</th>\n",
       "      <th>customer_type</th>\n",
       "      <th>adr</th>\n",
       "      <th>required_car_parking_spaces</th>\n",
       "      <th>total_of_special_requests</th>\n",
       "      <th>reservation_status</th>\n",
       "      <th>reservation_status_date</th>\n",
       "    </tr>\n",
       "  </thead>\n",
       "  <tbody>\n",
       "    <tr>\n",
       "      <th>0</th>\n",
       "      <td>Resort Hotel</td>\n",
       "      <td>0</td>\n",
       "      <td>342</td>\n",
       "      <td>2015</td>\n",
       "      <td>July</td>\n",
       "      <td>27</td>\n",
       "      <td>1</td>\n",
       "      <td>0</td>\n",
       "      <td>0</td>\n",
       "      <td>2</td>\n",
       "      <td>...</td>\n",
       "      <td>No Deposit</td>\n",
       "      <td>NaN</td>\n",
       "      <td>NaN</td>\n",
       "      <td>0</td>\n",
       "      <td>Transient</td>\n",
       "      <td>0.0</td>\n",
       "      <td>0</td>\n",
       "      <td>0</td>\n",
       "      <td>Check-Out</td>\n",
       "      <td>01-07-2015</td>\n",
       "    </tr>\n",
       "    <tr>\n",
       "      <th>1</th>\n",
       "      <td>Resort Hotel</td>\n",
       "      <td>0</td>\n",
       "      <td>737</td>\n",
       "      <td>2015</td>\n",
       "      <td>July</td>\n",
       "      <td>27</td>\n",
       "      <td>1</td>\n",
       "      <td>0</td>\n",
       "      <td>0</td>\n",
       "      <td>2</td>\n",
       "      <td>...</td>\n",
       "      <td>No Deposit</td>\n",
       "      <td>NaN</td>\n",
       "      <td>NaN</td>\n",
       "      <td>0</td>\n",
       "      <td>Transient</td>\n",
       "      <td>0.0</td>\n",
       "      <td>0</td>\n",
       "      <td>0</td>\n",
       "      <td>Check-Out</td>\n",
       "      <td>01-07-2015</td>\n",
       "    </tr>\n",
       "    <tr>\n",
       "      <th>2</th>\n",
       "      <td>Resort Hotel</td>\n",
       "      <td>0</td>\n",
       "      <td>7</td>\n",
       "      <td>2015</td>\n",
       "      <td>July</td>\n",
       "      <td>27</td>\n",
       "      <td>1</td>\n",
       "      <td>0</td>\n",
       "      <td>1</td>\n",
       "      <td>1</td>\n",
       "      <td>...</td>\n",
       "      <td>No Deposit</td>\n",
       "      <td>NaN</td>\n",
       "      <td>NaN</td>\n",
       "      <td>0</td>\n",
       "      <td>Transient</td>\n",
       "      <td>75.0</td>\n",
       "      <td>0</td>\n",
       "      <td>0</td>\n",
       "      <td>Check-Out</td>\n",
       "      <td>02-07-2015</td>\n",
       "    </tr>\n",
       "    <tr>\n",
       "      <th>3</th>\n",
       "      <td>Resort Hotel</td>\n",
       "      <td>0</td>\n",
       "      <td>13</td>\n",
       "      <td>2015</td>\n",
       "      <td>July</td>\n",
       "      <td>27</td>\n",
       "      <td>1</td>\n",
       "      <td>0</td>\n",
       "      <td>1</td>\n",
       "      <td>1</td>\n",
       "      <td>...</td>\n",
       "      <td>No Deposit</td>\n",
       "      <td>304.0</td>\n",
       "      <td>NaN</td>\n",
       "      <td>0</td>\n",
       "      <td>Transient</td>\n",
       "      <td>75.0</td>\n",
       "      <td>0</td>\n",
       "      <td>0</td>\n",
       "      <td>Check-Out</td>\n",
       "      <td>02-07-2015</td>\n",
       "    </tr>\n",
       "    <tr>\n",
       "      <th>4</th>\n",
       "      <td>Resort Hotel</td>\n",
       "      <td>0</td>\n",
       "      <td>14</td>\n",
       "      <td>2015</td>\n",
       "      <td>July</td>\n",
       "      <td>27</td>\n",
       "      <td>1</td>\n",
       "      <td>0</td>\n",
       "      <td>2</td>\n",
       "      <td>2</td>\n",
       "      <td>...</td>\n",
       "      <td>No Deposit</td>\n",
       "      <td>240.0</td>\n",
       "      <td>NaN</td>\n",
       "      <td>0</td>\n",
       "      <td>Transient</td>\n",
       "      <td>98.0</td>\n",
       "      <td>0</td>\n",
       "      <td>1</td>\n",
       "      <td>Check-Out</td>\n",
       "      <td>03-07-2015</td>\n",
       "    </tr>\n",
       "  </tbody>\n",
       "</table>\n",
       "<p>5 rows × 32 columns</p>\n",
       "</div>"
      ],
      "text/plain": [
       "          hotel  is_canceled  lead_time  arrival_date_year arrival_date_month  \\\n",
       "0  Resort Hotel            0        342               2015               July   \n",
       "1  Resort Hotel            0        737               2015               July   \n",
       "2  Resort Hotel            0          7               2015               July   \n",
       "3  Resort Hotel            0         13               2015               July   \n",
       "4  Resort Hotel            0         14               2015               July   \n",
       "\n",
       "   arrival_date_week_number  arrival_date_day_of_month  \\\n",
       "0                        27                          1   \n",
       "1                        27                          1   \n",
       "2                        27                          1   \n",
       "3                        27                          1   \n",
       "4                        27                          1   \n",
       "\n",
       "   stays_in_weekend_nights  stays_in_week_nights  adults  ...  deposit_type  \\\n",
       "0                        0                     0       2  ...    No Deposit   \n",
       "1                        0                     0       2  ...    No Deposit   \n",
       "2                        0                     1       1  ...    No Deposit   \n",
       "3                        0                     1       1  ...    No Deposit   \n",
       "4                        0                     2       2  ...    No Deposit   \n",
       "\n",
       "   agent company days_in_waiting_list customer_type   adr  \\\n",
       "0    NaN     NaN                    0     Transient   0.0   \n",
       "1    NaN     NaN                    0     Transient   0.0   \n",
       "2    NaN     NaN                    0     Transient  75.0   \n",
       "3  304.0     NaN                    0     Transient  75.0   \n",
       "4  240.0     NaN                    0     Transient  98.0   \n",
       "\n",
       "   required_car_parking_spaces  total_of_special_requests  reservation_status  \\\n",
       "0                            0                          0           Check-Out   \n",
       "1                            0                          0           Check-Out   \n",
       "2                            0                          0           Check-Out   \n",
       "3                            0                          0           Check-Out   \n",
       "4                            0                          1           Check-Out   \n",
       "\n",
       "  reservation_status_date  \n",
       "0              01-07-2015  \n",
       "1              01-07-2015  \n",
       "2              02-07-2015  \n",
       "3              02-07-2015  \n",
       "4              03-07-2015  \n",
       "\n",
       "[5 rows x 32 columns]"
      ]
     },
     "execution_count": 1127,
     "metadata": {},
     "output_type": "execute_result"
    }
   ],
   "source": [
    "test_data.head()"
   ]
  },
  {
   "cell_type": "code",
   "execution_count": 1128,
   "metadata": {},
   "outputs": [],
   "source": [
    "# Removing iscancled col from the data so we can use this data for testing purpose\n",
    "test_data_new = test_data.copy()"
   ]
  },
  {
   "cell_type": "code",
   "execution_count": 1129,
   "metadata": {},
   "outputs": [
    {
     "data": {
      "text/html": [
       "<div>\n",
       "<style scoped>\n",
       "    .dataframe tbody tr th:only-of-type {\n",
       "        vertical-align: middle;\n",
       "    }\n",
       "\n",
       "    .dataframe tbody tr th {\n",
       "        vertical-align: top;\n",
       "    }\n",
       "\n",
       "    .dataframe thead th {\n",
       "        text-align: right;\n",
       "    }\n",
       "</style>\n",
       "<table border=\"1\" class=\"dataframe\">\n",
       "  <thead>\n",
       "    <tr style=\"text-align: right;\">\n",
       "      <th></th>\n",
       "      <th>hotel</th>\n",
       "      <th>is_canceled</th>\n",
       "      <th>lead_time</th>\n",
       "      <th>arrival_date_year</th>\n",
       "      <th>arrival_date_month</th>\n",
       "      <th>arrival_date_week_number</th>\n",
       "      <th>arrival_date_day_of_month</th>\n",
       "      <th>stays_in_weekend_nights</th>\n",
       "      <th>stays_in_week_nights</th>\n",
       "      <th>adults</th>\n",
       "      <th>...</th>\n",
       "      <th>deposit_type</th>\n",
       "      <th>agent</th>\n",
       "      <th>company</th>\n",
       "      <th>days_in_waiting_list</th>\n",
       "      <th>customer_type</th>\n",
       "      <th>adr</th>\n",
       "      <th>required_car_parking_spaces</th>\n",
       "      <th>total_of_special_requests</th>\n",
       "      <th>reservation_status</th>\n",
       "      <th>reservation_status_date</th>\n",
       "    </tr>\n",
       "  </thead>\n",
       "  <tbody>\n",
       "    <tr>\n",
       "      <th>0</th>\n",
       "      <td>Resort Hotel</td>\n",
       "      <td>0</td>\n",
       "      <td>342</td>\n",
       "      <td>2015</td>\n",
       "      <td>July</td>\n",
       "      <td>27</td>\n",
       "      <td>1</td>\n",
       "      <td>0</td>\n",
       "      <td>0</td>\n",
       "      <td>2</td>\n",
       "      <td>...</td>\n",
       "      <td>No Deposit</td>\n",
       "      <td>NaN</td>\n",
       "      <td>NaN</td>\n",
       "      <td>0</td>\n",
       "      <td>Transient</td>\n",
       "      <td>0.0</td>\n",
       "      <td>0</td>\n",
       "      <td>0</td>\n",
       "      <td>Check-Out</td>\n",
       "      <td>01-07-2015</td>\n",
       "    </tr>\n",
       "    <tr>\n",
       "      <th>1</th>\n",
       "      <td>Resort Hotel</td>\n",
       "      <td>0</td>\n",
       "      <td>737</td>\n",
       "      <td>2015</td>\n",
       "      <td>July</td>\n",
       "      <td>27</td>\n",
       "      <td>1</td>\n",
       "      <td>0</td>\n",
       "      <td>0</td>\n",
       "      <td>2</td>\n",
       "      <td>...</td>\n",
       "      <td>No Deposit</td>\n",
       "      <td>NaN</td>\n",
       "      <td>NaN</td>\n",
       "      <td>0</td>\n",
       "      <td>Transient</td>\n",
       "      <td>0.0</td>\n",
       "      <td>0</td>\n",
       "      <td>0</td>\n",
       "      <td>Check-Out</td>\n",
       "      <td>01-07-2015</td>\n",
       "    </tr>\n",
       "    <tr>\n",
       "      <th>2</th>\n",
       "      <td>Resort Hotel</td>\n",
       "      <td>0</td>\n",
       "      <td>7</td>\n",
       "      <td>2015</td>\n",
       "      <td>July</td>\n",
       "      <td>27</td>\n",
       "      <td>1</td>\n",
       "      <td>0</td>\n",
       "      <td>1</td>\n",
       "      <td>1</td>\n",
       "      <td>...</td>\n",
       "      <td>No Deposit</td>\n",
       "      <td>NaN</td>\n",
       "      <td>NaN</td>\n",
       "      <td>0</td>\n",
       "      <td>Transient</td>\n",
       "      <td>75.0</td>\n",
       "      <td>0</td>\n",
       "      <td>0</td>\n",
       "      <td>Check-Out</td>\n",
       "      <td>02-07-2015</td>\n",
       "    </tr>\n",
       "    <tr>\n",
       "      <th>3</th>\n",
       "      <td>Resort Hotel</td>\n",
       "      <td>0</td>\n",
       "      <td>13</td>\n",
       "      <td>2015</td>\n",
       "      <td>July</td>\n",
       "      <td>27</td>\n",
       "      <td>1</td>\n",
       "      <td>0</td>\n",
       "      <td>1</td>\n",
       "      <td>1</td>\n",
       "      <td>...</td>\n",
       "      <td>No Deposit</td>\n",
       "      <td>304.0</td>\n",
       "      <td>NaN</td>\n",
       "      <td>0</td>\n",
       "      <td>Transient</td>\n",
       "      <td>75.0</td>\n",
       "      <td>0</td>\n",
       "      <td>0</td>\n",
       "      <td>Check-Out</td>\n",
       "      <td>02-07-2015</td>\n",
       "    </tr>\n",
       "    <tr>\n",
       "      <th>4</th>\n",
       "      <td>Resort Hotel</td>\n",
       "      <td>0</td>\n",
       "      <td>14</td>\n",
       "      <td>2015</td>\n",
       "      <td>July</td>\n",
       "      <td>27</td>\n",
       "      <td>1</td>\n",
       "      <td>0</td>\n",
       "      <td>2</td>\n",
       "      <td>2</td>\n",
       "      <td>...</td>\n",
       "      <td>No Deposit</td>\n",
       "      <td>240.0</td>\n",
       "      <td>NaN</td>\n",
       "      <td>0</td>\n",
       "      <td>Transient</td>\n",
       "      <td>98.0</td>\n",
       "      <td>0</td>\n",
       "      <td>1</td>\n",
       "      <td>Check-Out</td>\n",
       "      <td>03-07-2015</td>\n",
       "    </tr>\n",
       "  </tbody>\n",
       "</table>\n",
       "<p>5 rows × 32 columns</p>\n",
       "</div>"
      ],
      "text/plain": [
       "          hotel  is_canceled  lead_time  arrival_date_year arrival_date_month  \\\n",
       "0  Resort Hotel            0        342               2015               July   \n",
       "1  Resort Hotel            0        737               2015               July   \n",
       "2  Resort Hotel            0          7               2015               July   \n",
       "3  Resort Hotel            0         13               2015               July   \n",
       "4  Resort Hotel            0         14               2015               July   \n",
       "\n",
       "   arrival_date_week_number  arrival_date_day_of_month  \\\n",
       "0                        27                          1   \n",
       "1                        27                          1   \n",
       "2                        27                          1   \n",
       "3                        27                          1   \n",
       "4                        27                          1   \n",
       "\n",
       "   stays_in_weekend_nights  stays_in_week_nights  adults  ...  deposit_type  \\\n",
       "0                        0                     0       2  ...    No Deposit   \n",
       "1                        0                     0       2  ...    No Deposit   \n",
       "2                        0                     1       1  ...    No Deposit   \n",
       "3                        0                     1       1  ...    No Deposit   \n",
       "4                        0                     2       2  ...    No Deposit   \n",
       "\n",
       "   agent company days_in_waiting_list customer_type   adr  \\\n",
       "0    NaN     NaN                    0     Transient   0.0   \n",
       "1    NaN     NaN                    0     Transient   0.0   \n",
       "2    NaN     NaN                    0     Transient  75.0   \n",
       "3  304.0     NaN                    0     Transient  75.0   \n",
       "4  240.0     NaN                    0     Transient  98.0   \n",
       "\n",
       "   required_car_parking_spaces  total_of_special_requests  reservation_status  \\\n",
       "0                            0                          0           Check-Out   \n",
       "1                            0                          0           Check-Out   \n",
       "2                            0                          0           Check-Out   \n",
       "3                            0                          0           Check-Out   \n",
       "4                            0                          1           Check-Out   \n",
       "\n",
       "  reservation_status_date  \n",
       "0              01-07-2015  \n",
       "1              01-07-2015  \n",
       "2              02-07-2015  \n",
       "3              02-07-2015  \n",
       "4              03-07-2015  \n",
       "\n",
       "[5 rows x 32 columns]"
      ]
     },
     "execution_count": 1129,
     "metadata": {},
     "output_type": "execute_result"
    }
   ],
   "source": [
    "test_data_new.head()"
   ]
  },
  {
   "cell_type": "code",
   "execution_count": 1130,
   "metadata": {},
   "outputs": [
    {
     "data": {
      "text/plain": [
       "((109391, 32), (9999, 32))"
      ]
     },
     "execution_count": 1130,
     "metadata": {},
     "output_type": "execute_result"
    }
   ],
   "source": [
    "train_data.shape , test_data.shape"
   ]
  },
  {
   "cell_type": "code",
   "execution_count": 1131,
   "metadata": {},
   "outputs": [
    {
     "data": {
      "text/html": [
       "<div>\n",
       "<style scoped>\n",
       "    .dataframe tbody tr th:only-of-type {\n",
       "        vertical-align: middle;\n",
       "    }\n",
       "\n",
       "    .dataframe tbody tr th {\n",
       "        vertical-align: top;\n",
       "    }\n",
       "\n",
       "    .dataframe thead th {\n",
       "        text-align: right;\n",
       "    }\n",
       "</style>\n",
       "<table border=\"1\" class=\"dataframe\">\n",
       "  <thead>\n",
       "    <tr style=\"text-align: right;\">\n",
       "      <th></th>\n",
       "      <th>is_canceled</th>\n",
       "      <th>lead_time</th>\n",
       "      <th>arrival_date_year</th>\n",
       "      <th>arrival_date_week_number</th>\n",
       "      <th>arrival_date_day_of_month</th>\n",
       "      <th>stays_in_weekend_nights</th>\n",
       "      <th>stays_in_week_nights</th>\n",
       "      <th>adults</th>\n",
       "      <th>children</th>\n",
       "      <th>babies</th>\n",
       "      <th>is_repeated_guest</th>\n",
       "      <th>previous_cancellations</th>\n",
       "      <th>previous_bookings_not_canceled</th>\n",
       "      <th>booking_changes</th>\n",
       "      <th>agent</th>\n",
       "      <th>company</th>\n",
       "      <th>days_in_waiting_list</th>\n",
       "      <th>adr</th>\n",
       "      <th>required_car_parking_spaces</th>\n",
       "      <th>total_of_special_requests</th>\n",
       "    </tr>\n",
       "  </thead>\n",
       "  <tbody>\n",
       "    <tr>\n",
       "      <th>count</th>\n",
       "      <td>109391.000000</td>\n",
       "      <td>109391.000000</td>\n",
       "      <td>109391.000000</td>\n",
       "      <td>109391.000000</td>\n",
       "      <td>109391.000000</td>\n",
       "      <td>109391.000000</td>\n",
       "      <td>109391.000000</td>\n",
       "      <td>109391.000000</td>\n",
       "      <td>109387.000000</td>\n",
       "      <td>109391.000000</td>\n",
       "      <td>109391.000000</td>\n",
       "      <td>109391.000000</td>\n",
       "      <td>109391.000000</td>\n",
       "      <td>109391.000000</td>\n",
       "      <td>94580.000000</td>\n",
       "      <td>6242.000000</td>\n",
       "      <td>109391.000000</td>\n",
       "      <td>109391.000000</td>\n",
       "      <td>109391.000000</td>\n",
       "      <td>109391.000000</td>\n",
       "    </tr>\n",
       "    <tr>\n",
       "      <th>mean</th>\n",
       "      <td>0.346381</td>\n",
       "      <td>103.026867</td>\n",
       "      <td>2016.202987</td>\n",
       "      <td>26.794206</td>\n",
       "      <td>15.791994</td>\n",
       "      <td>0.895631</td>\n",
       "      <td>2.420839</td>\n",
       "      <td>1.848671</td>\n",
       "      <td>0.101484</td>\n",
       "      <td>0.007331</td>\n",
       "      <td>0.034829</td>\n",
       "      <td>0.095081</td>\n",
       "      <td>0.149628</td>\n",
       "      <td>0.219616</td>\n",
       "      <td>75.255435</td>\n",
       "      <td>185.255046</td>\n",
       "      <td>2.401898</td>\n",
       "      <td>102.609922</td>\n",
       "      <td>0.063104</td>\n",
       "      <td>0.576656</td>\n",
       "    </tr>\n",
       "    <tr>\n",
       "      <th>std</th>\n",
       "      <td>0.475819</td>\n",
       "      <td>107.659026</td>\n",
       "      <td>0.703989</td>\n",
       "      <td>13.598527</td>\n",
       "      <td>8.763965</td>\n",
       "      <td>0.976867</td>\n",
       "      <td>1.833424</td>\n",
       "      <td>0.496472</td>\n",
       "      <td>0.392370</td>\n",
       "      <td>0.094753</td>\n",
       "      <td>0.183348</td>\n",
       "      <td>0.881652</td>\n",
       "      <td>1.563779</td>\n",
       "      <td>0.650258</td>\n",
       "      <td>105.858376</td>\n",
       "      <td>134.424197</td>\n",
       "      <td>18.000554</td>\n",
       "      <td>50.041012</td>\n",
       "      <td>0.246474</td>\n",
       "      <td>0.793710</td>\n",
       "    </tr>\n",
       "    <tr>\n",
       "      <th>min</th>\n",
       "      <td>0.000000</td>\n",
       "      <td>0.000000</td>\n",
       "      <td>2015.000000</td>\n",
       "      <td>1.000000</td>\n",
       "      <td>1.000000</td>\n",
       "      <td>0.000000</td>\n",
       "      <td>0.000000</td>\n",
       "      <td>0.000000</td>\n",
       "      <td>0.000000</td>\n",
       "      <td>0.000000</td>\n",
       "      <td>0.000000</td>\n",
       "      <td>0.000000</td>\n",
       "      <td>0.000000</td>\n",
       "      <td>0.000000</td>\n",
       "      <td>1.000000</td>\n",
       "      <td>6.000000</td>\n",
       "      <td>0.000000</td>\n",
       "      <td>-6.380000</td>\n",
       "      <td>0.000000</td>\n",
       "      <td>0.000000</td>\n",
       "    </tr>\n",
       "    <tr>\n",
       "      <th>25%</th>\n",
       "      <td>0.000000</td>\n",
       "      <td>17.000000</td>\n",
       "      <td>2016.000000</td>\n",
       "      <td>16.000000</td>\n",
       "      <td>8.000000</td>\n",
       "      <td>0.000000</td>\n",
       "      <td>1.000000</td>\n",
       "      <td>2.000000</td>\n",
       "      <td>0.000000</td>\n",
       "      <td>0.000000</td>\n",
       "      <td>0.000000</td>\n",
       "      <td>0.000000</td>\n",
       "      <td>0.000000</td>\n",
       "      <td>0.000000</td>\n",
       "      <td>9.000000</td>\n",
       "      <td>51.000000</td>\n",
       "      <td>0.000000</td>\n",
       "      <td>71.100000</td>\n",
       "      <td>0.000000</td>\n",
       "      <td>0.000000</td>\n",
       "    </tr>\n",
       "    <tr>\n",
       "      <th>50%</th>\n",
       "      <td>0.000000</td>\n",
       "      <td>67.000000</td>\n",
       "      <td>2016.000000</td>\n",
       "      <td>27.000000</td>\n",
       "      <td>16.000000</td>\n",
       "      <td>1.000000</td>\n",
       "      <td>2.000000</td>\n",
       "      <td>2.000000</td>\n",
       "      <td>0.000000</td>\n",
       "      <td>0.000000</td>\n",
       "      <td>0.000000</td>\n",
       "      <td>0.000000</td>\n",
       "      <td>0.000000</td>\n",
       "      <td>0.000000</td>\n",
       "      <td>9.000000</td>\n",
       "      <td>169.000000</td>\n",
       "      <td>0.000000</td>\n",
       "      <td>95.000000</td>\n",
       "      <td>0.000000</td>\n",
       "      <td>0.000000</td>\n",
       "    </tr>\n",
       "    <tr>\n",
       "      <th>75%</th>\n",
       "      <td>1.000000</td>\n",
       "      <td>159.000000</td>\n",
       "      <td>2017.000000</td>\n",
       "      <td>38.000000</td>\n",
       "      <td>23.000000</td>\n",
       "      <td>2.000000</td>\n",
       "      <td>3.000000</td>\n",
       "      <td>2.000000</td>\n",
       "      <td>0.000000</td>\n",
       "      <td>0.000000</td>\n",
       "      <td>0.000000</td>\n",
       "      <td>0.000000</td>\n",
       "      <td>0.000000</td>\n",
       "      <td>0.000000</td>\n",
       "      <td>138.000000</td>\n",
       "      <td>268.750000</td>\n",
       "      <td>0.000000</td>\n",
       "      <td>126.000000</td>\n",
       "      <td>0.000000</td>\n",
       "      <td>1.000000</td>\n",
       "    </tr>\n",
       "    <tr>\n",
       "      <th>max</th>\n",
       "      <td>1.000000</td>\n",
       "      <td>629.000000</td>\n",
       "      <td>2017.000000</td>\n",
       "      <td>53.000000</td>\n",
       "      <td>31.000000</td>\n",
       "      <td>19.000000</td>\n",
       "      <td>50.000000</td>\n",
       "      <td>4.000000</td>\n",
       "      <td>3.000000</td>\n",
       "      <td>10.000000</td>\n",
       "      <td>1.000000</td>\n",
       "      <td>26.000000</td>\n",
       "      <td>72.000000</td>\n",
       "      <td>21.000000</td>\n",
       "      <td>535.000000</td>\n",
       "      <td>543.000000</td>\n",
       "      <td>391.000000</td>\n",
       "      <td>5400.000000</td>\n",
       "      <td>8.000000</td>\n",
       "      <td>5.000000</td>\n",
       "    </tr>\n",
       "  </tbody>\n",
       "</table>\n",
       "</div>"
      ],
      "text/plain": [
       "         is_canceled      lead_time  arrival_date_year  \\\n",
       "count  109391.000000  109391.000000      109391.000000   \n",
       "mean        0.346381     103.026867        2016.202987   \n",
       "std         0.475819     107.659026           0.703989   \n",
       "min         0.000000       0.000000        2015.000000   \n",
       "25%         0.000000      17.000000        2016.000000   \n",
       "50%         0.000000      67.000000        2016.000000   \n",
       "75%         1.000000     159.000000        2017.000000   \n",
       "max         1.000000     629.000000        2017.000000   \n",
       "\n",
       "       arrival_date_week_number  arrival_date_day_of_month  \\\n",
       "count             109391.000000              109391.000000   \n",
       "mean                  26.794206                  15.791994   \n",
       "std                   13.598527                   8.763965   \n",
       "min                    1.000000                   1.000000   \n",
       "25%                   16.000000                   8.000000   \n",
       "50%                   27.000000                  16.000000   \n",
       "75%                   38.000000                  23.000000   \n",
       "max                   53.000000                  31.000000   \n",
       "\n",
       "       stays_in_weekend_nights  stays_in_week_nights         adults  \\\n",
       "count            109391.000000         109391.000000  109391.000000   \n",
       "mean                  0.895631              2.420839       1.848671   \n",
       "std                   0.976867              1.833424       0.496472   \n",
       "min                   0.000000              0.000000       0.000000   \n",
       "25%                   0.000000              1.000000       2.000000   \n",
       "50%                   1.000000              2.000000       2.000000   \n",
       "75%                   2.000000              3.000000       2.000000   \n",
       "max                  19.000000             50.000000       4.000000   \n",
       "\n",
       "            children         babies  is_repeated_guest  \\\n",
       "count  109387.000000  109391.000000      109391.000000   \n",
       "mean        0.101484       0.007331           0.034829   \n",
       "std         0.392370       0.094753           0.183348   \n",
       "min         0.000000       0.000000           0.000000   \n",
       "25%         0.000000       0.000000           0.000000   \n",
       "50%         0.000000       0.000000           0.000000   \n",
       "75%         0.000000       0.000000           0.000000   \n",
       "max         3.000000      10.000000           1.000000   \n",
       "\n",
       "       previous_cancellations  previous_bookings_not_canceled  \\\n",
       "count           109391.000000                   109391.000000   \n",
       "mean                 0.095081                        0.149628   \n",
       "std                  0.881652                        1.563779   \n",
       "min                  0.000000                        0.000000   \n",
       "25%                  0.000000                        0.000000   \n",
       "50%                  0.000000                        0.000000   \n",
       "75%                  0.000000                        0.000000   \n",
       "max                 26.000000                       72.000000   \n",
       "\n",
       "       booking_changes         agent      company  days_in_waiting_list  \\\n",
       "count    109391.000000  94580.000000  6242.000000         109391.000000   \n",
       "mean          0.219616     75.255435   185.255046              2.401898   \n",
       "std           0.650258    105.858376   134.424197             18.000554   \n",
       "min           0.000000      1.000000     6.000000              0.000000   \n",
       "25%           0.000000      9.000000    51.000000              0.000000   \n",
       "50%           0.000000      9.000000   169.000000              0.000000   \n",
       "75%           0.000000    138.000000   268.750000              0.000000   \n",
       "max          21.000000    535.000000   543.000000            391.000000   \n",
       "\n",
       "                 adr  required_car_parking_spaces  total_of_special_requests  \n",
       "count  109391.000000                109391.000000              109391.000000  \n",
       "mean      102.609922                     0.063104                   0.576656  \n",
       "std        50.041012                     0.246474                   0.793710  \n",
       "min        -6.380000                     0.000000                   0.000000  \n",
       "25%        71.100000                     0.000000                   0.000000  \n",
       "50%        95.000000                     0.000000                   0.000000  \n",
       "75%       126.000000                     0.000000                   1.000000  \n",
       "max      5400.000000                     8.000000                   5.000000  "
      ]
     },
     "execution_count": 1131,
     "metadata": {},
     "output_type": "execute_result"
    }
   ],
   "source": [
    "train_data.describe()"
   ]
  },
  {
   "cell_type": "code",
   "execution_count": 1132,
   "metadata": {},
   "outputs": [
    {
     "data": {
      "text/html": [
       "<div>\n",
       "<style scoped>\n",
       "    .dataframe tbody tr th:only-of-type {\n",
       "        vertical-align: middle;\n",
       "    }\n",
       "\n",
       "    .dataframe tbody tr th {\n",
       "        vertical-align: top;\n",
       "    }\n",
       "\n",
       "    .dataframe thead th {\n",
       "        text-align: right;\n",
       "    }\n",
       "</style>\n",
       "<table border=\"1\" class=\"dataframe\">\n",
       "  <thead>\n",
       "    <tr style=\"text-align: right;\">\n",
       "      <th></th>\n",
       "      <th>is_canceled</th>\n",
       "      <th>lead_time</th>\n",
       "      <th>arrival_date_year</th>\n",
       "      <th>arrival_date_week_number</th>\n",
       "      <th>arrival_date_day_of_month</th>\n",
       "      <th>stays_in_weekend_nights</th>\n",
       "      <th>stays_in_week_nights</th>\n",
       "      <th>adults</th>\n",
       "      <th>children</th>\n",
       "      <th>babies</th>\n",
       "      <th>is_repeated_guest</th>\n",
       "      <th>previous_cancellations</th>\n",
       "      <th>previous_bookings_not_canceled</th>\n",
       "      <th>booking_changes</th>\n",
       "      <th>agent</th>\n",
       "      <th>company</th>\n",
       "      <th>days_in_waiting_list</th>\n",
       "      <th>adr</th>\n",
       "      <th>required_car_parking_spaces</th>\n",
       "      <th>total_of_special_requests</th>\n",
       "    </tr>\n",
       "  </thead>\n",
       "  <tbody>\n",
       "    <tr>\n",
       "      <th>count</th>\n",
       "      <td>9999.000000</td>\n",
       "      <td>9999.000000</td>\n",
       "      <td>9999.000000</td>\n",
       "      <td>9999.000000</td>\n",
       "      <td>9999.000000</td>\n",
       "      <td>9999.000000</td>\n",
       "      <td>9999.000000</td>\n",
       "      <td>9999.000000</td>\n",
       "      <td>9999.000000</td>\n",
       "      <td>9999.000000</td>\n",
       "      <td>9999.0</td>\n",
       "      <td>9999.0</td>\n",
       "      <td>9999.0</td>\n",
       "      <td>9999.000000</td>\n",
       "      <td>8470.000000</td>\n",
       "      <td>555.000000</td>\n",
       "      <td>9999.000000</td>\n",
       "      <td>9999.000000</td>\n",
       "      <td>9999.000000</td>\n",
       "      <td>9999.000000</td>\n",
       "    </tr>\n",
       "    <tr>\n",
       "      <th>mean</th>\n",
       "      <td>0.633363</td>\n",
       "      <td>114.782578</td>\n",
       "      <td>2015.648565</td>\n",
       "      <td>31.223622</td>\n",
       "      <td>15.866587</td>\n",
       "      <td>1.277328</td>\n",
       "      <td>3.369637</td>\n",
       "      <td>1.940994</td>\n",
       "      <td>0.130213</td>\n",
       "      <td>0.014701</td>\n",
       "      <td>0.0</td>\n",
       "      <td>0.0</td>\n",
       "      <td>0.0</td>\n",
       "      <td>0.237624</td>\n",
       "      <td>214.414876</td>\n",
       "      <td>234.385586</td>\n",
       "      <td>1.437744</td>\n",
       "      <td>93.310892</td>\n",
       "      <td>0.056106</td>\n",
       "      <td>0.513451</td>\n",
       "    </tr>\n",
       "    <tr>\n",
       "      <th>std</th>\n",
       "      <td>0.481910</td>\n",
       "      <td>97.088010</td>\n",
       "      <td>0.522265</td>\n",
       "      <td>13.004139</td>\n",
       "      <td>8.963419</td>\n",
       "      <td>1.154930</td>\n",
       "      <td>2.425234</td>\n",
       "      <td>1.141131</td>\n",
       "      <td>0.460096</td>\n",
       "      <td>0.122829</td>\n",
       "      <td>0.0</td>\n",
       "      <td>0.0</td>\n",
       "      <td>0.0</td>\n",
       "      <td>0.674115</td>\n",
       "      <td>79.939480</td>\n",
       "      <td>82.722815</td>\n",
       "      <td>12.275986</td>\n",
       "      <td>54.948639</td>\n",
       "      <td>0.231869</td>\n",
       "      <td>0.780459</td>\n",
       "    </tr>\n",
       "    <tr>\n",
       "      <th>min</th>\n",
       "      <td>0.000000</td>\n",
       "      <td>0.000000</td>\n",
       "      <td>2015.000000</td>\n",
       "      <td>1.000000</td>\n",
       "      <td>1.000000</td>\n",
       "      <td>0.000000</td>\n",
       "      <td>0.000000</td>\n",
       "      <td>0.000000</td>\n",
       "      <td>0.000000</td>\n",
       "      <td>0.000000</td>\n",
       "      <td>0.0</td>\n",
       "      <td>0.0</td>\n",
       "      <td>0.0</td>\n",
       "      <td>0.000000</td>\n",
       "      <td>1.000000</td>\n",
       "      <td>9.000000</td>\n",
       "      <td>0.000000</td>\n",
       "      <td>0.000000</td>\n",
       "      <td>0.000000</td>\n",
       "      <td>0.000000</td>\n",
       "    </tr>\n",
       "    <tr>\n",
       "      <th>25%</th>\n",
       "      <td>0.000000</td>\n",
       "      <td>37.000000</td>\n",
       "      <td>2015.000000</td>\n",
       "      <td>21.000000</td>\n",
       "      <td>8.000000</td>\n",
       "      <td>0.000000</td>\n",
       "      <td>2.000000</td>\n",
       "      <td>2.000000</td>\n",
       "      <td>0.000000</td>\n",
       "      <td>0.000000</td>\n",
       "      <td>0.0</td>\n",
       "      <td>0.0</td>\n",
       "      <td>0.0</td>\n",
       "      <td>0.000000</td>\n",
       "      <td>240.000000</td>\n",
       "      <td>223.000000</td>\n",
       "      <td>0.000000</td>\n",
       "      <td>55.000000</td>\n",
       "      <td>0.000000</td>\n",
       "      <td>0.000000</td>\n",
       "    </tr>\n",
       "    <tr>\n",
       "      <th>50%</th>\n",
       "      <td>1.000000</td>\n",
       "      <td>90.000000</td>\n",
       "      <td>2016.000000</td>\n",
       "      <td>33.000000</td>\n",
       "      <td>16.000000</td>\n",
       "      <td>1.000000</td>\n",
       "      <td>3.000000</td>\n",
       "      <td>2.000000</td>\n",
       "      <td>0.000000</td>\n",
       "      <td>0.000000</td>\n",
       "      <td>0.0</td>\n",
       "      <td>0.0</td>\n",
       "      <td>0.0</td>\n",
       "      <td>0.000000</td>\n",
       "      <td>240.000000</td>\n",
       "      <td>223.000000</td>\n",
       "      <td>0.000000</td>\n",
       "      <td>77.850000</td>\n",
       "      <td>0.000000</td>\n",
       "      <td>0.000000</td>\n",
       "    </tr>\n",
       "    <tr>\n",
       "      <th>75%</th>\n",
       "      <td>1.000000</td>\n",
       "      <td>169.000000</td>\n",
       "      <td>2016.000000</td>\n",
       "      <td>41.000000</td>\n",
       "      <td>24.000000</td>\n",
       "      <td>2.000000</td>\n",
       "      <td>5.000000</td>\n",
       "      <td>2.000000</td>\n",
       "      <td>0.000000</td>\n",
       "      <td>0.000000</td>\n",
       "      <td>0.0</td>\n",
       "      <td>0.0</td>\n",
       "      <td>0.0</td>\n",
       "      <td>0.000000</td>\n",
       "      <td>241.000000</td>\n",
       "      <td>281.000000</td>\n",
       "      <td>0.000000</td>\n",
       "      <td>120.285000</td>\n",
       "      <td>0.000000</td>\n",
       "      <td>1.000000</td>\n",
       "    </tr>\n",
       "    <tr>\n",
       "      <th>max</th>\n",
       "      <td>1.000000</td>\n",
       "      <td>737.000000</td>\n",
       "      <td>2017.000000</td>\n",
       "      <td>53.000000</td>\n",
       "      <td>31.000000</td>\n",
       "      <td>16.000000</td>\n",
       "      <td>40.000000</td>\n",
       "      <td>55.000000</td>\n",
       "      <td>10.000000</td>\n",
       "      <td>2.000000</td>\n",
       "      <td>0.0</td>\n",
       "      <td>0.0</td>\n",
       "      <td>0.0</td>\n",
       "      <td>17.000000</td>\n",
       "      <td>481.000000</td>\n",
       "      <td>504.000000</td>\n",
       "      <td>150.000000</td>\n",
       "      <td>384.000000</td>\n",
       "      <td>2.000000</td>\n",
       "      <td>5.000000</td>\n",
       "    </tr>\n",
       "  </tbody>\n",
       "</table>\n",
       "</div>"
      ],
      "text/plain": [
       "       is_canceled    lead_time  arrival_date_year  arrival_date_week_number  \\\n",
       "count  9999.000000  9999.000000        9999.000000               9999.000000   \n",
       "mean      0.633363   114.782578        2015.648565                 31.223622   \n",
       "std       0.481910    97.088010           0.522265                 13.004139   \n",
       "min       0.000000     0.000000        2015.000000                  1.000000   \n",
       "25%       0.000000    37.000000        2015.000000                 21.000000   \n",
       "50%       1.000000    90.000000        2016.000000                 33.000000   \n",
       "75%       1.000000   169.000000        2016.000000                 41.000000   \n",
       "max       1.000000   737.000000        2017.000000                 53.000000   \n",
       "\n",
       "       arrival_date_day_of_month  stays_in_weekend_nights  \\\n",
       "count                9999.000000              9999.000000   \n",
       "mean                   15.866587                 1.277328   \n",
       "std                     8.963419                 1.154930   \n",
       "min                     1.000000                 0.000000   \n",
       "25%                     8.000000                 0.000000   \n",
       "50%                    16.000000                 1.000000   \n",
       "75%                    24.000000                 2.000000   \n",
       "max                    31.000000                16.000000   \n",
       "\n",
       "       stays_in_week_nights       adults     children       babies  \\\n",
       "count           9999.000000  9999.000000  9999.000000  9999.000000   \n",
       "mean               3.369637     1.940994     0.130213     0.014701   \n",
       "std                2.425234     1.141131     0.460096     0.122829   \n",
       "min                0.000000     0.000000     0.000000     0.000000   \n",
       "25%                2.000000     2.000000     0.000000     0.000000   \n",
       "50%                3.000000     2.000000     0.000000     0.000000   \n",
       "75%                5.000000     2.000000     0.000000     0.000000   \n",
       "max               40.000000    55.000000    10.000000     2.000000   \n",
       "\n",
       "       is_repeated_guest  previous_cancellations  \\\n",
       "count             9999.0                  9999.0   \n",
       "mean                 0.0                     0.0   \n",
       "std                  0.0                     0.0   \n",
       "min                  0.0                     0.0   \n",
       "25%                  0.0                     0.0   \n",
       "50%                  0.0                     0.0   \n",
       "75%                  0.0                     0.0   \n",
       "max                  0.0                     0.0   \n",
       "\n",
       "       previous_bookings_not_canceled  booking_changes        agent  \\\n",
       "count                          9999.0      9999.000000  8470.000000   \n",
       "mean                              0.0         0.237624   214.414876   \n",
       "std                               0.0         0.674115    79.939480   \n",
       "min                               0.0         0.000000     1.000000   \n",
       "25%                               0.0         0.000000   240.000000   \n",
       "50%                               0.0         0.000000   240.000000   \n",
       "75%                               0.0         0.000000   241.000000   \n",
       "max                               0.0        17.000000   481.000000   \n",
       "\n",
       "          company  days_in_waiting_list          adr  \\\n",
       "count  555.000000           9999.000000  9999.000000   \n",
       "mean   234.385586              1.437744    93.310892   \n",
       "std     82.722815             12.275986    54.948639   \n",
       "min      9.000000              0.000000     0.000000   \n",
       "25%    223.000000              0.000000    55.000000   \n",
       "50%    223.000000              0.000000    77.850000   \n",
       "75%    281.000000              0.000000   120.285000   \n",
       "max    504.000000            150.000000   384.000000   \n",
       "\n",
       "       required_car_parking_spaces  total_of_special_requests  \n",
       "count                  9999.000000                9999.000000  \n",
       "mean                      0.056106                   0.513451  \n",
       "std                       0.231869                   0.780459  \n",
       "min                       0.000000                   0.000000  \n",
       "25%                       0.000000                   0.000000  \n",
       "50%                       0.000000                   0.000000  \n",
       "75%                       0.000000                   1.000000  \n",
       "max                       2.000000                   5.000000  "
      ]
     },
     "execution_count": 1132,
     "metadata": {},
     "output_type": "execute_result"
    }
   ],
   "source": [
    "test_data_new.describe()"
   ]
  },
  {
   "cell_type": "code",
   "execution_count": 1133,
   "metadata": {},
   "outputs": [
    {
     "data": {
      "text/plain": [
       "hotel                                  0\n",
       "is_canceled                            0\n",
       "lead_time                              0\n",
       "arrival_date_year                      0\n",
       "arrival_date_month                     0\n",
       "arrival_date_week_number               0\n",
       "arrival_date_day_of_month              0\n",
       "stays_in_weekend_nights                0\n",
       "stays_in_week_nights                   0\n",
       "adults                                 0\n",
       "children                               4\n",
       "babies                                 0\n",
       "meal                                   0\n",
       "country                              480\n",
       "market_segment                         0\n",
       "distribution_channel                   0\n",
       "is_repeated_guest                      0\n",
       "previous_cancellations                 0\n",
       "previous_bookings_not_canceled         0\n",
       "reserved_room_type                     0\n",
       "assigned_room_type                     0\n",
       "booking_changes                        0\n",
       "deposit_type                           0\n",
       "agent                              14811\n",
       "company                           103149\n",
       "days_in_waiting_list                   0\n",
       "customer_type                          0\n",
       "adr                                    0\n",
       "required_car_parking_spaces            0\n",
       "total_of_special_requests              0\n",
       "reservation_status                     0\n",
       "reservation_status_date                0\n",
       "dtype: int64"
      ]
     },
     "execution_count": 1133,
     "metadata": {},
     "output_type": "execute_result"
    }
   ],
   "source": [
    "#Checking missing values\n",
    "train_data.isnull().sum()"
   ]
  },
  {
   "cell_type": "code",
   "execution_count": 1134,
   "metadata": {
    "scrolled": true
   },
   "outputs": [
    {
     "data": {
      "text/plain": [
       "hotel                                0\n",
       "is_canceled                          0\n",
       "lead_time                            0\n",
       "arrival_date_year                    0\n",
       "arrival_date_month                   0\n",
       "arrival_date_week_number             0\n",
       "arrival_date_day_of_month            0\n",
       "stays_in_weekend_nights              0\n",
       "stays_in_week_nights                 0\n",
       "adults                               0\n",
       "children                             0\n",
       "babies                               0\n",
       "meal                                 0\n",
       "country                              8\n",
       "market_segment                       0\n",
       "distribution_channel                 0\n",
       "is_repeated_guest                    0\n",
       "previous_cancellations               0\n",
       "previous_bookings_not_canceled       0\n",
       "reserved_room_type                   0\n",
       "assigned_room_type                   0\n",
       "booking_changes                      0\n",
       "deposit_type                         0\n",
       "agent                             1529\n",
       "company                           9444\n",
       "days_in_waiting_list                 0\n",
       "customer_type                        0\n",
       "adr                                  0\n",
       "required_car_parking_spaces          0\n",
       "total_of_special_requests            0\n",
       "reservation_status                   0\n",
       "reservation_status_date              0\n",
       "dtype: int64"
      ]
     },
     "execution_count": 1134,
     "metadata": {},
     "output_type": "execute_result"
    }
   ],
   "source": [
    "test_data_new.isnull().sum()"
   ]
  },
  {
   "cell_type": "code",
   "execution_count": 1135,
   "metadata": {},
   "outputs": [
    {
     "name": "stdout",
     "output_type": "stream",
     "text": [
      "<class 'pandas.core.frame.DataFrame'>\n",
      "RangeIndex: 109391 entries, 0 to 109390\n",
      "Data columns (total 32 columns):\n",
      "hotel                             109391 non-null object\n",
      "is_canceled                       109391 non-null int64\n",
      "lead_time                         109391 non-null int64\n",
      "arrival_date_year                 109391 non-null int64\n",
      "arrival_date_month                109391 non-null object\n",
      "arrival_date_week_number          109391 non-null int64\n",
      "arrival_date_day_of_month         109391 non-null int64\n",
      "stays_in_weekend_nights           109391 non-null int64\n",
      "stays_in_week_nights              109391 non-null int64\n",
      "adults                            109391 non-null int64\n",
      "children                          109387 non-null float64\n",
      "babies                            109391 non-null int64\n",
      "meal                              109391 non-null object\n",
      "country                           108911 non-null object\n",
      "market_segment                    109391 non-null object\n",
      "distribution_channel              109391 non-null object\n",
      "is_repeated_guest                 109391 non-null int64\n",
      "previous_cancellations            109391 non-null int64\n",
      "previous_bookings_not_canceled    109391 non-null int64\n",
      "reserved_room_type                109391 non-null object\n",
      "assigned_room_type                109391 non-null object\n",
      "booking_changes                   109391 non-null int64\n",
      "deposit_type                      109391 non-null object\n",
      "agent                             94580 non-null float64\n",
      "company                           6242 non-null float64\n",
      "days_in_waiting_list              109391 non-null int64\n",
      "customer_type                     109391 non-null object\n",
      "adr                               109391 non-null float64\n",
      "required_car_parking_spaces       109391 non-null int64\n",
      "total_of_special_requests         109391 non-null int64\n",
      "reservation_status                109391 non-null object\n",
      "reservation_status_date           109391 non-null object\n",
      "dtypes: float64(4), int64(16), object(12)\n",
      "memory usage: 26.7+ MB\n"
     ]
    }
   ],
   "source": [
    "train_data.info()"
   ]
  },
  {
   "cell_type": "markdown",
   "metadata": {},
   "source": [
    "## Data Preprocessing"
   ]
  },
  {
   "cell_type": "code",
   "execution_count": 1136,
   "metadata": {},
   "outputs": [],
   "source": [
    "#country\n",
    "train_data['country'] =  train_data['country'].fillna('PRT')\n",
    "test_data_new['country'] = test_data['country'].fillna('PRT')\n",
    "\n",
    "#children for train only\n",
    "train_data['children'] = train_data['children'].fillna(0)\n",
    "\n",
    "# agent\n",
    "train_data['agent'] =  train_data['agent'].fillna('75')\n",
    "test_data_new['agent'] = test_data['agent'].fillna('75')\n",
    "\n",
    "# company\n",
    "train_data['company'] =  train_data['company'].fillna('185')\n",
    "test_data_new['company'] = test_data['company'].fillna('185')\n",
    "\n"
   ]
  },
  {
   "cell_type": "code",
   "execution_count": 1137,
   "metadata": {},
   "outputs": [],
   "source": [
    "# changing the data type of children column\n",
    "train_data['children'] = train_data['children'].astype('int64')\n",
    "test_data['children'] = test_data['children'].astype('int64')\n"
   ]
  },
  {
   "cell_type": "code",
   "execution_count": 1138,
   "metadata": {},
   "outputs": [],
   "source": [
    "# Combining stayinweeknights and stayinweekend night in col called Total_nights\n",
    "train_data['Total_nights']  = train_data['stays_in_week_nights'] + train_data['stays_in_weekend_nights']\n",
    "test_data_new['Total_nights']  = test_data_new['stays_in_week_nights'] + test_data_new['stays_in_weekend_nights']\n"
   ]
  },
  {
   "cell_type": "code",
   "execution_count": 1139,
   "metadata": {},
   "outputs": [],
   "source": [
    "# Drop the two cols\n",
    "train_data = train_data.drop(['stays_in_week_nights','stays_in_weekend_nights'],axis = 1)\n",
    "test_data_new = test_data_new.drop(['stays_in_weekend_nights','stays_in_week_nights'],axis = 1)"
   ]
  },
  {
   "cell_type": "code",
   "execution_count": 1140,
   "metadata": {},
   "outputs": [],
   "source": [
    "# combining children babies and adults in one col called No_of_persons\n",
    "train_data['No_of_persons'] = train_data['children'] + train_data['babies'] + train_data['adults']   \n",
    "test_data_new['No_of_persons'] = test_data_new['children'] + test_data_new['babies'] + test_data_new['adults']   "
   ]
  },
  {
   "cell_type": "code",
   "execution_count": 1141,
   "metadata": {},
   "outputs": [],
   "source": [
    "# drop the original cols\n",
    "train_data =  train_data.drop(['children','babies','adults'],axis = 1)\n",
    "test_data_new = test_data_new.drop(['children','babies','adults'],axis = 1)"
   ]
  },
  {
   "cell_type": "code",
   "execution_count": 1142,
   "metadata": {},
   "outputs": [],
   "source": [
    "train_data = train_data.drop(['hotel','reservation_status_date'],axis = 1 )\n",
    "test_data_new = test_data_new.drop(['hotel','reservation_status_date'],axis = 1 )\n"
   ]
  },
  {
   "cell_type": "code",
   "execution_count": 1143,
   "metadata": {},
   "outputs": [
    {
     "data": {
      "text/html": [
       "<div>\n",
       "<style scoped>\n",
       "    .dataframe tbody tr th:only-of-type {\n",
       "        vertical-align: middle;\n",
       "    }\n",
       "\n",
       "    .dataframe tbody tr th {\n",
       "        vertical-align: top;\n",
       "    }\n",
       "\n",
       "    .dataframe thead th {\n",
       "        text-align: right;\n",
       "    }\n",
       "</style>\n",
       "<table border=\"1\" class=\"dataframe\">\n",
       "  <thead>\n",
       "    <tr style=\"text-align: right;\">\n",
       "      <th></th>\n",
       "      <th>is_canceled</th>\n",
       "      <th>lead_time</th>\n",
       "      <th>arrival_date_year</th>\n",
       "      <th>arrival_date_month</th>\n",
       "      <th>arrival_date_week_number</th>\n",
       "      <th>arrival_date_day_of_month</th>\n",
       "      <th>meal</th>\n",
       "      <th>country</th>\n",
       "      <th>market_segment</th>\n",
       "      <th>distribution_channel</th>\n",
       "      <th>...</th>\n",
       "      <th>agent</th>\n",
       "      <th>company</th>\n",
       "      <th>days_in_waiting_list</th>\n",
       "      <th>customer_type</th>\n",
       "      <th>adr</th>\n",
       "      <th>required_car_parking_spaces</th>\n",
       "      <th>total_of_special_requests</th>\n",
       "      <th>reservation_status</th>\n",
       "      <th>Total_nights</th>\n",
       "      <th>No_of_persons</th>\n",
       "    </tr>\n",
       "  </thead>\n",
       "  <tbody>\n",
       "    <tr>\n",
       "      <th>0</th>\n",
       "      <td>1</td>\n",
       "      <td>1</td>\n",
       "      <td>2017</td>\n",
       "      <td>February</td>\n",
       "      <td>5</td>\n",
       "      <td>4</td>\n",
       "      <td>BB</td>\n",
       "      <td>PRT</td>\n",
       "      <td>Online TA</td>\n",
       "      <td>TA/TO</td>\n",
       "      <td>...</td>\n",
       "      <td>240</td>\n",
       "      <td>185</td>\n",
       "      <td>0</td>\n",
       "      <td>Transient</td>\n",
       "      <td>48.0</td>\n",
       "      <td>0</td>\n",
       "      <td>0</td>\n",
       "      <td>Canceled</td>\n",
       "      <td>1</td>\n",
       "      <td>2</td>\n",
       "    </tr>\n",
       "    <tr>\n",
       "      <th>1</th>\n",
       "      <td>1</td>\n",
       "      <td>1</td>\n",
       "      <td>2017</td>\n",
       "      <td>February</td>\n",
       "      <td>5</td>\n",
       "      <td>4</td>\n",
       "      <td>BB</td>\n",
       "      <td>PRT</td>\n",
       "      <td>Online TA</td>\n",
       "      <td>TA/TO</td>\n",
       "      <td>...</td>\n",
       "      <td>240</td>\n",
       "      <td>185</td>\n",
       "      <td>0</td>\n",
       "      <td>Transient</td>\n",
       "      <td>43.0</td>\n",
       "      <td>0</td>\n",
       "      <td>0</td>\n",
       "      <td>Canceled</td>\n",
       "      <td>1</td>\n",
       "      <td>1</td>\n",
       "    </tr>\n",
       "    <tr>\n",
       "      <th>2</th>\n",
       "      <td>1</td>\n",
       "      <td>0</td>\n",
       "      <td>2017</td>\n",
       "      <td>February</td>\n",
       "      <td>5</td>\n",
       "      <td>4</td>\n",
       "      <td>BB</td>\n",
       "      <td>PRT</td>\n",
       "      <td>Direct</td>\n",
       "      <td>Direct</td>\n",
       "      <td>...</td>\n",
       "      <td>75</td>\n",
       "      <td>185</td>\n",
       "      <td>0</td>\n",
       "      <td>Transient</td>\n",
       "      <td>48.0</td>\n",
       "      <td>0</td>\n",
       "      <td>2</td>\n",
       "      <td>Canceled</td>\n",
       "      <td>1</td>\n",
       "      <td>2</td>\n",
       "    </tr>\n",
       "    <tr>\n",
       "      <th>3</th>\n",
       "      <td>1</td>\n",
       "      <td>1</td>\n",
       "      <td>2017</td>\n",
       "      <td>February</td>\n",
       "      <td>5</td>\n",
       "      <td>4</td>\n",
       "      <td>BB</td>\n",
       "      <td>PRT</td>\n",
       "      <td>Online TA</td>\n",
       "      <td>TA/TO</td>\n",
       "      <td>...</td>\n",
       "      <td>240</td>\n",
       "      <td>185</td>\n",
       "      <td>0</td>\n",
       "      <td>Transient</td>\n",
       "      <td>43.0</td>\n",
       "      <td>0</td>\n",
       "      <td>0</td>\n",
       "      <td>Canceled</td>\n",
       "      <td>1</td>\n",
       "      <td>1</td>\n",
       "    </tr>\n",
       "    <tr>\n",
       "      <th>4</th>\n",
       "      <td>1</td>\n",
       "      <td>29</td>\n",
       "      <td>2017</td>\n",
       "      <td>February</td>\n",
       "      <td>5</td>\n",
       "      <td>4</td>\n",
       "      <td>HB</td>\n",
       "      <td>PRT</td>\n",
       "      <td>Online TA</td>\n",
       "      <td>TA/TO</td>\n",
       "      <td>...</td>\n",
       "      <td>242</td>\n",
       "      <td>185</td>\n",
       "      <td>0</td>\n",
       "      <td>Transient</td>\n",
       "      <td>74.1</td>\n",
       "      <td>0</td>\n",
       "      <td>2</td>\n",
       "      <td>Canceled</td>\n",
       "      <td>2</td>\n",
       "      <td>2</td>\n",
       "    </tr>\n",
       "  </tbody>\n",
       "</table>\n",
       "<p>5 rows × 27 columns</p>\n",
       "</div>"
      ],
      "text/plain": [
       "   is_canceled  lead_time  arrival_date_year arrival_date_month  \\\n",
       "0            1          1               2017           February   \n",
       "1            1          1               2017           February   \n",
       "2            1          0               2017           February   \n",
       "3            1          1               2017           February   \n",
       "4            1         29               2017           February   \n",
       "\n",
       "   arrival_date_week_number  arrival_date_day_of_month meal country  \\\n",
       "0                         5                          4   BB     PRT   \n",
       "1                         5                          4   BB     PRT   \n",
       "2                         5                          4   BB     PRT   \n",
       "3                         5                          4   BB     PRT   \n",
       "4                         5                          4   HB     PRT   \n",
       "\n",
       "  market_segment distribution_channel  ...  agent  company  \\\n",
       "0      Online TA                TA/TO  ...    240      185   \n",
       "1      Online TA                TA/TO  ...    240      185   \n",
       "2         Direct               Direct  ...     75      185   \n",
       "3      Online TA                TA/TO  ...    240      185   \n",
       "4      Online TA                TA/TO  ...    242      185   \n",
       "\n",
       "   days_in_waiting_list customer_type   adr  required_car_parking_spaces  \\\n",
       "0                     0     Transient  48.0                            0   \n",
       "1                     0     Transient  43.0                            0   \n",
       "2                     0     Transient  48.0                            0   \n",
       "3                     0     Transient  43.0                            0   \n",
       "4                     0     Transient  74.1                            0   \n",
       "\n",
       "  total_of_special_requests reservation_status Total_nights  No_of_persons  \n",
       "0                         0           Canceled            1              2  \n",
       "1                         0           Canceled            1              1  \n",
       "2                         2           Canceled            1              2  \n",
       "3                         0           Canceled            1              1  \n",
       "4                         2           Canceled            2              2  \n",
       "\n",
       "[5 rows x 27 columns]"
      ]
     },
     "execution_count": 1143,
     "metadata": {},
     "output_type": "execute_result"
    }
   ],
   "source": [
    "train_data.head()"
   ]
  },
  {
   "cell_type": "code",
   "execution_count": 1144,
   "metadata": {},
   "outputs": [
    {
     "data": {
      "text/html": [
       "<div>\n",
       "<style scoped>\n",
       "    .dataframe tbody tr th:only-of-type {\n",
       "        vertical-align: middle;\n",
       "    }\n",
       "\n",
       "    .dataframe tbody tr th {\n",
       "        vertical-align: top;\n",
       "    }\n",
       "\n",
       "    .dataframe thead th {\n",
       "        text-align: right;\n",
       "    }\n",
       "</style>\n",
       "<table border=\"1\" class=\"dataframe\">\n",
       "  <thead>\n",
       "    <tr style=\"text-align: right;\">\n",
       "      <th></th>\n",
       "      <th>is_canceled</th>\n",
       "      <th>lead_time</th>\n",
       "      <th>arrival_date_year</th>\n",
       "      <th>arrival_date_week_number</th>\n",
       "      <th>arrival_date_day_of_month</th>\n",
       "      <th>is_repeated_guest</th>\n",
       "      <th>previous_cancellations</th>\n",
       "      <th>previous_bookings_not_canceled</th>\n",
       "      <th>booking_changes</th>\n",
       "      <th>days_in_waiting_list</th>\n",
       "      <th>adr</th>\n",
       "      <th>required_car_parking_spaces</th>\n",
       "      <th>total_of_special_requests</th>\n",
       "      <th>Total_nights</th>\n",
       "      <th>No_of_persons</th>\n",
       "    </tr>\n",
       "  </thead>\n",
       "  <tbody>\n",
       "    <tr>\n",
       "      <th>count</th>\n",
       "      <td>109391.000000</td>\n",
       "      <td>109391.000000</td>\n",
       "      <td>109391.000000</td>\n",
       "      <td>109391.000000</td>\n",
       "      <td>109391.000000</td>\n",
       "      <td>109391.000000</td>\n",
       "      <td>109391.000000</td>\n",
       "      <td>109391.000000</td>\n",
       "      <td>109391.000000</td>\n",
       "      <td>109391.000000</td>\n",
       "      <td>109391.000000</td>\n",
       "      <td>109391.000000</td>\n",
       "      <td>109391.000000</td>\n",
       "      <td>109391.00000</td>\n",
       "      <td>109391.000000</td>\n",
       "    </tr>\n",
       "    <tr>\n",
       "      <th>mean</th>\n",
       "      <td>0.346381</td>\n",
       "      <td>103.026867</td>\n",
       "      <td>2016.202987</td>\n",
       "      <td>26.794206</td>\n",
       "      <td>15.791994</td>\n",
       "      <td>0.034829</td>\n",
       "      <td>0.095081</td>\n",
       "      <td>0.149628</td>\n",
       "      <td>0.219616</td>\n",
       "      <td>2.401898</td>\n",
       "      <td>102.609922</td>\n",
       "      <td>0.063104</td>\n",
       "      <td>0.576656</td>\n",
       "      <td>3.31647</td>\n",
       "      <td>1.957483</td>\n",
       "    </tr>\n",
       "    <tr>\n",
       "      <th>std</th>\n",
       "      <td>0.475819</td>\n",
       "      <td>107.659026</td>\n",
       "      <td>0.703989</td>\n",
       "      <td>13.598527</td>\n",
       "      <td>8.763965</td>\n",
       "      <td>0.183348</td>\n",
       "      <td>0.881652</td>\n",
       "      <td>1.563779</td>\n",
       "      <td>0.650258</td>\n",
       "      <td>18.000554</td>\n",
       "      <td>50.041012</td>\n",
       "      <td>0.246474</td>\n",
       "      <td>0.793710</td>\n",
       "      <td>2.44333</td>\n",
       "      <td>0.651966</td>\n",
       "    </tr>\n",
       "    <tr>\n",
       "      <th>min</th>\n",
       "      <td>0.000000</td>\n",
       "      <td>0.000000</td>\n",
       "      <td>2015.000000</td>\n",
       "      <td>1.000000</td>\n",
       "      <td>1.000000</td>\n",
       "      <td>0.000000</td>\n",
       "      <td>0.000000</td>\n",
       "      <td>0.000000</td>\n",
       "      <td>0.000000</td>\n",
       "      <td>0.000000</td>\n",
       "      <td>-6.380000</td>\n",
       "      <td>0.000000</td>\n",
       "      <td>0.000000</td>\n",
       "      <td>0.00000</td>\n",
       "      <td>0.000000</td>\n",
       "    </tr>\n",
       "    <tr>\n",
       "      <th>25%</th>\n",
       "      <td>0.000000</td>\n",
       "      <td>17.000000</td>\n",
       "      <td>2016.000000</td>\n",
       "      <td>16.000000</td>\n",
       "      <td>8.000000</td>\n",
       "      <td>0.000000</td>\n",
       "      <td>0.000000</td>\n",
       "      <td>0.000000</td>\n",
       "      <td>0.000000</td>\n",
       "      <td>0.000000</td>\n",
       "      <td>71.100000</td>\n",
       "      <td>0.000000</td>\n",
       "      <td>0.000000</td>\n",
       "      <td>2.00000</td>\n",
       "      <td>2.000000</td>\n",
       "    </tr>\n",
       "    <tr>\n",
       "      <th>50%</th>\n",
       "      <td>0.000000</td>\n",
       "      <td>67.000000</td>\n",
       "      <td>2016.000000</td>\n",
       "      <td>27.000000</td>\n",
       "      <td>16.000000</td>\n",
       "      <td>0.000000</td>\n",
       "      <td>0.000000</td>\n",
       "      <td>0.000000</td>\n",
       "      <td>0.000000</td>\n",
       "      <td>0.000000</td>\n",
       "      <td>95.000000</td>\n",
       "      <td>0.000000</td>\n",
       "      <td>0.000000</td>\n",
       "      <td>3.00000</td>\n",
       "      <td>2.000000</td>\n",
       "    </tr>\n",
       "    <tr>\n",
       "      <th>75%</th>\n",
       "      <td>1.000000</td>\n",
       "      <td>159.000000</td>\n",
       "      <td>2017.000000</td>\n",
       "      <td>38.000000</td>\n",
       "      <td>23.000000</td>\n",
       "      <td>0.000000</td>\n",
       "      <td>0.000000</td>\n",
       "      <td>0.000000</td>\n",
       "      <td>0.000000</td>\n",
       "      <td>0.000000</td>\n",
       "      <td>126.000000</td>\n",
       "      <td>0.000000</td>\n",
       "      <td>1.000000</td>\n",
       "      <td>4.00000</td>\n",
       "      <td>2.000000</td>\n",
       "    </tr>\n",
       "    <tr>\n",
       "      <th>max</th>\n",
       "      <td>1.000000</td>\n",
       "      <td>629.000000</td>\n",
       "      <td>2017.000000</td>\n",
       "      <td>53.000000</td>\n",
       "      <td>31.000000</td>\n",
       "      <td>1.000000</td>\n",
       "      <td>26.000000</td>\n",
       "      <td>72.000000</td>\n",
       "      <td>21.000000</td>\n",
       "      <td>391.000000</td>\n",
       "      <td>5400.000000</td>\n",
       "      <td>8.000000</td>\n",
       "      <td>5.000000</td>\n",
       "      <td>69.00000</td>\n",
       "      <td>12.000000</td>\n",
       "    </tr>\n",
       "  </tbody>\n",
       "</table>\n",
       "</div>"
      ],
      "text/plain": [
       "         is_canceled      lead_time  arrival_date_year  \\\n",
       "count  109391.000000  109391.000000      109391.000000   \n",
       "mean        0.346381     103.026867        2016.202987   \n",
       "std         0.475819     107.659026           0.703989   \n",
       "min         0.000000       0.000000        2015.000000   \n",
       "25%         0.000000      17.000000        2016.000000   \n",
       "50%         0.000000      67.000000        2016.000000   \n",
       "75%         1.000000     159.000000        2017.000000   \n",
       "max         1.000000     629.000000        2017.000000   \n",
       "\n",
       "       arrival_date_week_number  arrival_date_day_of_month  is_repeated_guest  \\\n",
       "count             109391.000000              109391.000000      109391.000000   \n",
       "mean                  26.794206                  15.791994           0.034829   \n",
       "std                   13.598527                   8.763965           0.183348   \n",
       "min                    1.000000                   1.000000           0.000000   \n",
       "25%                   16.000000                   8.000000           0.000000   \n",
       "50%                   27.000000                  16.000000           0.000000   \n",
       "75%                   38.000000                  23.000000           0.000000   \n",
       "max                   53.000000                  31.000000           1.000000   \n",
       "\n",
       "       previous_cancellations  previous_bookings_not_canceled  \\\n",
       "count           109391.000000                   109391.000000   \n",
       "mean                 0.095081                        0.149628   \n",
       "std                  0.881652                        1.563779   \n",
       "min                  0.000000                        0.000000   \n",
       "25%                  0.000000                        0.000000   \n",
       "50%                  0.000000                        0.000000   \n",
       "75%                  0.000000                        0.000000   \n",
       "max                 26.000000                       72.000000   \n",
       "\n",
       "       booking_changes  days_in_waiting_list            adr  \\\n",
       "count    109391.000000         109391.000000  109391.000000   \n",
       "mean          0.219616              2.401898     102.609922   \n",
       "std           0.650258             18.000554      50.041012   \n",
       "min           0.000000              0.000000      -6.380000   \n",
       "25%           0.000000              0.000000      71.100000   \n",
       "50%           0.000000              0.000000      95.000000   \n",
       "75%           0.000000              0.000000     126.000000   \n",
       "max          21.000000            391.000000    5400.000000   \n",
       "\n",
       "       required_car_parking_spaces  total_of_special_requests  Total_nights  \\\n",
       "count                109391.000000              109391.000000  109391.00000   \n",
       "mean                      0.063104                   0.576656       3.31647   \n",
       "std                       0.246474                   0.793710       2.44333   \n",
       "min                       0.000000                   0.000000       0.00000   \n",
       "25%                       0.000000                   0.000000       2.00000   \n",
       "50%                       0.000000                   0.000000       3.00000   \n",
       "75%                       0.000000                   1.000000       4.00000   \n",
       "max                       8.000000                   5.000000      69.00000   \n",
       "\n",
       "       No_of_persons  \n",
       "count  109391.000000  \n",
       "mean        1.957483  \n",
       "std         0.651966  \n",
       "min         0.000000  \n",
       "25%         2.000000  \n",
       "50%         2.000000  \n",
       "75%         2.000000  \n",
       "max        12.000000  "
      ]
     },
     "execution_count": 1144,
     "metadata": {},
     "output_type": "execute_result"
    }
   ],
   "source": [
    "train_data.describe()"
   ]
  },
  {
   "cell_type": "markdown",
   "metadata": {},
   "source": [
    "## Exploratory Data Analysis"
   ]
  },
  {
   "cell_type": "code",
   "execution_count": 1145,
   "metadata": {},
   "outputs": [
    {
     "data": {
      "text/plain": [
       "<matplotlib.axes._subplots.AxesSubplot at 0x16d3d6a5208>"
      ]
     },
     "execution_count": 1145,
     "metadata": {},
     "output_type": "execute_result"
    },
    {
     "data": {
      "image/png": "[encoded data removed]",
      "text/plain": [
       "<Figure size 1440x504 with 1 Axes>"
      ]
     },
     "metadata": {
      "needs_background": "light"
     },
     "output_type": "display_data"
    }
   ],
   "source": [
    "plt.figure(figsize=(20,7))\n",
    "sns.countplot('market_segment', data=train_data)"
   ]
  },
  {
   "cell_type": "code",
   "execution_count": 1146,
   "metadata": {},
   "outputs": [
    {
     "data": {
      "text/plain": [
       "<matplotlib.axes._subplots.AxesSubplot at 0x16d46caada0>"
      ]
     },
     "execution_count": 1146,
     "metadata": {},
     "output_type": "execute_result"
    },
    {
     "data": {
      "image/png": "[encoded data removed]",
      "text/plain": [
       "<Figure size 432x288 with 1 Axes>"
      ]
     },
     "metadata": {
      "needs_background": "light"
     },
     "output_type": "display_data"
    }
   ],
   "source": [
    "ct  = pd.crosstab(index =train_data['market_segment'] , columns = train_data['is_canceled'])\n",
    "ct.plot.bar()"
   ]
  },
  {
   "cell_type": "markdown",
   "metadata": {},
   "source": [
    "##### So customers who are in groups are more likely to cancel the booking "
   ]
  },
  {
   "cell_type": "code",
   "execution_count": 1147,
   "metadata": {},
   "outputs": [
    {
     "data": {
      "text/plain": [
       "<matplotlib.axes._subplots.AxesSubplot at 0x16d52998828>"
      ]
     },
     "execution_count": 1147,
     "metadata": {},
     "output_type": "execute_result"
    },
    {
     "data": {
      "image/png": "[encoded data removed]",
      "text/plain": [
       "<Figure size 432x288 with 1 Axes>"
      ]
     },
     "metadata": {
      "needs_background": "light"
     },
     "output_type": "display_data"
    }
   ],
   "source": [
    "sns.boxplot(x = train_data['is_canceled'] , y = train_data['lead_time'])"
   ]
  },
  {
   "cell_type": "markdown",
   "metadata": {},
   "source": [
    "1)customers who have lead time of 17 to 67 days are not likely to cancel the booking\n",
    "\n",
    "2)customers who have lead time more than 67 days are likely to cancel \n",
    "\n",
    "Outliers are present in lead time"
   ]
  },
  {
   "cell_type": "code",
   "execution_count": 1148,
   "metadata": {},
   "outputs": [
    {
     "data": {
      "text/plain": [
       "<matplotlib.axes._subplots.AxesSubplot at 0x16d52a13390>"
      ]
     },
     "execution_count": 1148,
     "metadata": {},
     "output_type": "execute_result"
    },
    {
     "data": {
      "image/png": "[encoded data removed]",
      "text/plain": [
       "<Figure size 432x288 with 1 Axes>"
      ]
     },
     "metadata": {
      "needs_background": "light"
     },
     "output_type": "display_data"
    }
   ],
   "source": [
    "sns.distplot(train_data['Total_nights'],kde = False , bins = 5)"
   ]
  },
  {
   "cell_type": "markdown",
   "metadata": {},
   "source": [
    "Outliers are present on right side"
   ]
  },
  {
   "cell_type": "code",
   "execution_count": 1149,
   "metadata": {},
   "outputs": [
    {
     "data": {
      "text/plain": [
       "<matplotlib.axes._subplots.AxesSubplot at 0x16d52acdef0>"
      ]
     },
     "execution_count": 1149,
     "metadata": {},
     "output_type": "execute_result"
    },
    {
     "data": {
      "image/png": "[encoded data removed]",
      "text/plain": [
       "<Figure size 432x288 with 1 Axes>"
      ]
     },
     "metadata": {
      "needs_background": "light"
     },
     "output_type": "display_data"
    }
   ],
   "source": [
    "ct  = pd.crosstab(index =train_data['is_repeated_guest'] , columns = train_data['is_canceled'])\n",
    "ct.plot.bar()"
   ]
  },
  {
   "cell_type": "code",
   "execution_count": 1150,
   "metadata": {},
   "outputs": [
    {
     "data": {
      "text/plain": [
       "<matplotlib.axes._subplots.AxesSubplot at 0x16d52a13940>"
      ]
     },
     "execution_count": 1150,
     "metadata": {},
     "output_type": "execute_result"
    },
    {
     "data": {
      "image/png": "[encoded data removed]",
      "text/plain": [
       "<Figure size 1440x504 with 1 Axes>"
      ]
     },
     "metadata": {
      "needs_background": "light"
     },
     "output_type": "display_data"
    }
   ],
   "source": [
    "plt.figure(figsize=(20,7))\n",
    "sns.boxplot(x = train_data['market_segment'] , y = train_data['lead_time'] , hue = 'is_canceled' ,data = train_data)"
   ]
  },
  {
   "cell_type": "code",
   "execution_count": 1151,
   "metadata": {},
   "outputs": [
    {
     "data": {
      "text/plain": [
       "<matplotlib.axes._subplots.AxesSubplot at 0x16d52e191d0>"
      ]
     },
     "execution_count": 1151,
     "metadata": {},
     "output_type": "execute_result"
    },
    {
     "data": {
      "image/png": "[encoded data removed]",
      "text/plain": [
       "<Figure size 432x288 with 1 Axes>"
      ]
     },
     "metadata": {
      "needs_background": "light"
     },
     "output_type": "display_data"
    }
   ],
   "source": [
    "sns.countplot(x = 'is_canceled' , data = train_data , hue = 'deposit_type')"
   ]
  },
  {
   "cell_type": "markdown",
   "metadata": {},
   "source": [
    "if deposit type is non refundable then the customer will not cancel the booking"
   ]
  },
  {
   "cell_type": "markdown",
   "metadata": {},
   "source": [
    "### Outlier Removal Using IQR from lead_time and Total_nights\n",
    "\n",
    "\n"
   ]
  },
  {
   "cell_type": "code",
   "execution_count": 1152,
   "metadata": {},
   "outputs": [
    {
     "data": {
      "text/plain": [
       "(17.0, 159.0)"
      ]
     },
     "execution_count": 1152,
     "metadata": {},
     "output_type": "execute_result"
    }
   ],
   "source": [
    "Q1 = train_data.lead_time.quantile(0.25)\n",
    "Q3 = train_data.lead_time.quantile(0.75)\n",
    "Q1, Q3"
   ]
  },
  {
   "cell_type": "code",
   "execution_count": 1153,
   "metadata": {},
   "outputs": [
    {
     "data": {
      "text/plain": [
       "142.0"
      ]
     },
     "execution_count": 1153,
     "metadata": {},
     "output_type": "execute_result"
    }
   ],
   "source": [
    "IQR = Q3 - Q1\n",
    "IQR"
   ]
  },
  {
   "cell_type": "code",
   "execution_count": 1154,
   "metadata": {},
   "outputs": [
    {
     "data": {
      "text/plain": [
       "(-196.0, 372.0)"
      ]
     },
     "execution_count": 1154,
     "metadata": {},
     "output_type": "execute_result"
    }
   ],
   "source": [
    "lower_limit = Q1 - 1.5*IQR\n",
    "upper_limit = Q3 + 1.5*IQR\n",
    "lower_limit, upper_limit"
   ]
  },
  {
   "cell_type": "code",
   "execution_count": 1155,
   "metadata": {},
   "outputs": [],
   "source": [
    "lead_time_outlier = train_data[(train_data.lead_time<lower_limit)|(train_data.lead_time>upper_limit)].index\n",
    "#lead_time_test = test_data_new[(test_data_new.lead_time<lower_limit)|(test_data_new.lead_time>upper_limit)].index"
   ]
  },
  {
   "cell_type": "code",
   "execution_count": 1156,
   "metadata": {},
   "outputs": [],
   "source": [
    "train_data.drop(lead_time_outlier,inplace = True)"
   ]
  },
  {
   "cell_type": "code",
   "execution_count": 1157,
   "metadata": {},
   "outputs": [],
   "source": [
    "#test_data_new.drop(lead_time_test,inplace = True)"
   ]
  },
  {
   "cell_type": "code",
   "execution_count": 1158,
   "metadata": {},
   "outputs": [
    {
     "data": {
      "text/plain": [
       "(2.0, 4.0)"
      ]
     },
     "execution_count": 1158,
     "metadata": {},
     "output_type": "execute_result"
    }
   ],
   "source": [
    "# Total nights\n",
    "q1 = train_data.Total_nights.quantile(0.25)\n",
    "q2 = train_data.Total_nights.quantile(0.75)\n",
    "q1,q2"
   ]
  },
  {
   "cell_type": "code",
   "execution_count": 1159,
   "metadata": {},
   "outputs": [
    {
     "data": {
      "text/plain": [
       "2.0"
      ]
     },
     "execution_count": 1159,
     "metadata": {},
     "output_type": "execute_result"
    }
   ],
   "source": [
    "IQR = q2-q1\n",
    "IQR"
   ]
  },
  {
   "cell_type": "code",
   "execution_count": 1160,
   "metadata": {},
   "outputs": [
    {
     "data": {
      "text/plain": [
       "(-1.0, 7.0)"
      ]
     },
     "execution_count": 1160,
     "metadata": {},
     "output_type": "execute_result"
    }
   ],
   "source": [
    "lower_limit = q1 - 1.5*IQR\n",
    "upper_limit = q2 + 1.5*IQR\n",
    "lower_limit, upper_limit"
   ]
  },
  {
   "cell_type": "code",
   "execution_count": 1161,
   "metadata": {},
   "outputs": [],
   "source": [
    "Total_nights_outlier = train_data[(train_data.Total_nights<lower_limit)| (train_data.Total_nights>upper_limit)].index\n",
    "#Test_total_outlier = test_data_new[(test_data_new.Total_nights<lower_limit)| (train_data.Total_nights>upper_limit)].index\n"
   ]
  },
  {
   "cell_type": "code",
   "execution_count": 1162,
   "metadata": {},
   "outputs": [],
   "source": [
    "train_data.drop(Total_nights_outlier,inplace = True)\n",
    "#test_data.drop(Test_total_outlier,inplace = True)"
   ]
  },
  {
   "cell_type": "code",
   "execution_count": 1163,
   "metadata": {},
   "outputs": [
    {
     "data": {
      "text/plain": [
       "(102436, 27)"
      ]
     },
     "execution_count": 1163,
     "metadata": {},
     "output_type": "execute_result"
    }
   ],
   "source": [
    "train_data.shape"
   ]
  },
  {
   "cell_type": "markdown",
   "metadata": {},
   "source": [
    "### Label Encoding"
   ]
  },
  {
   "cell_type": "code",
   "execution_count": 1164,
   "metadata": {},
   "outputs": [
    {
     "name": "stdout",
     "output_type": "stream",
     "text": [
      "{'market_segment': {'Aviation': 0, 'Complementary': 1, 'Corporate': 2, 'Direct': 3, 'Groups': 4, 'Offline TA/TO': 5, 'Online TA': 6, 'Undefined': 7}, 'customer_type': {'Contract': 0, 'Group': 1, 'Transient': 2, 'Transient-Party': 3}, 'arrival_date_month': {'April': 0, 'August': 1, 'December': 2, 'February': 3, 'January': 4, 'July': 5, 'June': 6, 'March': 7, 'May': 8, 'November': 9, 'October': 10, 'September': 11}, 'meal': {'BB': 0, 'FB': 1, 'HB': 2, 'SC': 3, 'Undefined': 4}, 'country': {'ABW': 0, 'AGO': 1, 'AIA': 2, 'ALB': 3, 'AND': 4, 'ARE': 5, 'ARG': 6, 'ARM': 7, 'ASM': 8, 'ATA': 9, 'ATF': 10, 'AUS': 11, 'AUT': 12, 'AZE': 13, 'BDI': 14, 'BEL': 15, 'BEN': 16, 'BFA': 17, 'BGD': 18, 'BGR': 19, 'BHR': 20, 'BHS': 21, 'BIH': 22, 'BLR': 23, 'BOL': 24, 'BRA': 25, 'BRB': 26, 'CAF': 27, 'CHE': 28, 'CHL': 29, 'CHN': 30, 'CIV': 31, 'CMR': 32, 'CN': 33, 'COL': 34, 'COM': 35, 'CPV': 36, 'CRI': 37, 'CUB': 38, 'CYP': 39, 'CZE': 40, 'DEU': 41, 'DJI': 42, 'DMA': 43, 'DNK': 44, 'DOM': 45, 'DZA': 46, 'ECU': 47, 'EGY': 48, 'ESP': 49, 'EST': 50, 'ETH': 51, 'FIN': 52, 'FJI': 53, 'FRA': 54, 'FRO': 55, 'GAB': 56, 'GBR': 57, 'GEO': 58, 'GGY': 59, 'GHA': 60, 'GIB': 61, 'GLP': 62, 'GNB': 63, 'GRC': 64, 'GTM': 65, 'GUY': 66, 'HKG': 67, 'HND': 68, 'HRV': 69, 'HUN': 70, 'IDN': 71, 'IMN': 72, 'IND': 73, 'IRL': 74, 'IRN': 75, 'IRQ': 76, 'ISL': 77, 'ISR': 78, 'ITA': 79, 'JAM': 80, 'JEY': 81, 'JOR': 82, 'JPN': 83, 'KAZ': 84, 'KEN': 85, 'KHM': 86, 'KIR': 87, 'KNA': 88, 'KOR': 89, 'KWT': 90, 'LAO': 91, 'LBN': 92, 'LBY': 93, 'LCA': 94, 'LIE': 95, 'LKA': 96, 'LTU': 97, 'LUX': 98, 'LVA': 99, 'MAC': 100, 'MAR': 101, 'MCO': 102, 'MDG': 103, 'MDV': 104, 'MEX': 105, 'MKD': 106, 'MLI': 107, 'MLT': 108, 'MMR': 109, 'MNE': 110, 'MOZ': 111, 'MRT': 112, 'MUS': 113, 'MWI': 114, 'MYS': 115, 'MYT': 116, 'NAM': 117, 'NCL': 118, 'NGA': 119, 'NIC': 120, 'NLD': 121, 'NOR': 122, 'NPL': 123, 'NZL': 124, 'OMN': 125, 'PAK': 126, 'PAN': 127, 'PER': 128, 'PHL': 129, 'PLW': 130, 'POL': 131, 'PRI': 132, 'PRT': 133, 'PRY': 134, 'PYF': 135, 'QAT': 136, 'ROU': 137, 'RUS': 138, 'RWA': 139, 'SAU': 140, 'SDN': 141, 'SEN': 142, 'SGP': 143, 'SLE': 144, 'SLV': 145, 'SRB': 146, 'STP': 147, 'SUR': 148, 'SVK': 149, 'SVN': 150, 'SWE': 151, 'SYC': 152, 'SYR': 153, 'TGO': 154, 'THA': 155, 'TJK': 156, 'TMP': 157, 'TUN': 158, 'TUR': 159, 'TWN': 160, 'TZA': 161, 'UGA': 162, 'UKR': 163, 'UMI': 164, 'URY': 165, 'USA': 166, 'UZB': 167, 'VEN': 168, 'VGB': 169, 'VNM': 170, 'ZAF': 171, 'ZMB': 172, 'ZWE': 173}, 'reserved_room_type': {'A': 0, 'B': 1, 'C': 2, 'D': 3, 'E': 4, 'F': 5, 'G': 6, 'H': 7, 'L': 8, 'P': 9}, 'assigned_room_type': {'A': 0, 'B': 1, 'C': 2, 'D': 3, 'E': 4, 'F': 5, 'G': 6, 'H': 7, 'I': 8, 'K': 9, 'L': 10, 'P': 11}, 'deposit_type': {'No Deposit': 0, 'Non Refund': 1, 'Refundable': 2}, 'reservation_status': {'Canceled': 0, 'Check-Out': 1, 'No-Show': 2}, 'distribution_channel': {'Corporate': 0, 'Direct': 1, 'GDS': 2, 'TA/TO': 3, 'Undefined': 4}}\n"
     ]
    }
   ],
   "source": [
    "from sklearn.preprocessing import LabelEncoder\n",
    "labelEncoder = LabelEncoder()\n",
    "category_col = ['market_segment','customer_type','arrival_date_month','meal','country','reserved_room_type','assigned_room_type','deposit_type','reservation_status','distribution_channel']\n",
    "mapping_dict ={} \n",
    "for col in category_col: \n",
    "    train_data[col] = labelEncoder.fit_transform(train_data[col]) \n",
    "  \n",
    "    le_name_mapping = dict(zip(labelEncoder.classes_, \n",
    "                        labelEncoder.transform(labelEncoder.classes_))) \n",
    "  \n",
    "    mapping_dict[col]= le_name_mapping \n",
    "print(mapping_dict) "
   ]
  },
  {
   "cell_type": "code",
   "execution_count": 1165,
   "metadata": {},
   "outputs": [
    {
     "name": "stdout",
     "output_type": "stream",
     "text": [
      "{'market_segment': {'Complementary': 0, 'Corporate': 1, 'Direct': 2, 'Groups': 3, 'Offline TA/TO': 4, 'Online TA': 5}, 'customer_type': {'Contract': 0, 'Group': 1, 'Transient': 2, 'Transient-Party': 3}, 'arrival_date_month': {'April': 0, 'August': 1, 'December': 2, 'February': 3, 'January': 4, 'July': 5, 'June': 6, 'March': 7, 'May': 8, 'November': 9, 'October': 10, 'September': 11}, 'meal': {'BB': 0, 'FB': 1, 'HB': 2, 'SC': 3, 'Undefined': 4}, 'country': {'AGO': 0, 'ALB': 1, 'AND': 2, 'ARE': 3, 'ARG': 4, 'AUS': 5, 'AUT': 6, 'BEL': 7, 'BLR': 8, 'BRA': 9, 'BWA': 10, 'CAF': 11, 'CHE': 12, 'CHL': 13, 'CHN': 14, 'CN': 15, 'COL': 16, 'CPV': 17, 'CRI': 18, 'CYM': 19, 'CYP': 20, 'CZE': 21, 'DEU': 22, 'DNK': 23, 'DZA': 24, 'ESP': 25, 'EST': 26, 'FIN': 27, 'FRA': 28, 'GBR': 29, 'GEO': 30, 'GGY': 31, 'GIB': 32, 'GRC': 33, 'HKG': 34, 'HRV': 35, 'HUN': 36, 'IND': 37, 'IRL': 38, 'IRN': 39, 'ISR': 40, 'ITA': 41, 'JAM': 42, 'JEY': 43, 'KOR': 44, 'KWT': 45, 'LTU': 46, 'LUX': 47, 'LVA': 48, 'MAR': 49, 'MEX': 50, 'MOZ': 51, 'NGA': 52, 'NLD': 53, 'NOR': 54, 'OMN': 55, 'POL': 56, 'PRI': 57, 'PRT': 58, 'ROU': 59, 'RUS': 60, 'SMR': 61, 'SRB': 62, 'SVN': 63, 'SWE': 64, 'TUN': 65, 'TUR': 66, 'UKR': 67, 'URY': 68, 'USA': 69, 'ZAF': 70, 'ZMB': 71, 'ZWE': 72}, 'reserved_room_type': {'A': 0, 'C': 1, 'D': 2, 'E': 3, 'F': 4, 'G': 5, 'H': 6, 'L': 7, 'P': 8}, 'assigned_room_type': {'A': 0, 'B': 1, 'C': 2, 'D': 3, 'E': 4, 'F': 5, 'G': 6, 'H': 7, 'I': 8, 'P': 9}, 'deposit_type': {'No Deposit': 0, 'Non Refund': 1, 'Refundable': 2}, 'reservation_status': {'Canceled': 0, 'Check-Out': 1, 'No-Show': 2}, 'distribution_channel': {'Corporate': 0, 'Direct': 1, 'TA/TO': 2}}\n"
     ]
    }
   ],
   "source": [
    "from sklearn.preprocessing import LabelEncoder\n",
    "labelEncoder = LabelEncoder()\n",
    "category_col = ['market_segment','customer_type','arrival_date_month','meal','country','reserved_room_type','assigned_room_type','deposit_type','reservation_status','distribution_channel']\n",
    "mapping_dict ={} \n",
    "for col in category_col: \n",
    "    test_data_new[col] = labelEncoder.fit_transform(test_data_new[col]) \n",
    "  \n",
    "    le_name_mapping = dict(zip(labelEncoder.classes_, \n",
    "                        labelEncoder.transform(labelEncoder.classes_))) \n",
    "  \n",
    "    mapping_dict[col]= le_name_mapping \n",
    "print(mapping_dict) "
   ]
  },
  {
   "cell_type": "markdown",
   "metadata": {},
   "source": [
    "### Feature Importance using chi2"
   ]
  },
  {
   "cell_type": "code",
   "execution_count": 1166,
   "metadata": {},
   "outputs": [],
   "source": [
    "X = train_data.drop(['is_canceled'],axis = 1)\n",
    "Y = train_data['is_canceled']"
   ]
  },
  {
   "cell_type": "code",
   "execution_count": 1167,
   "metadata": {},
   "outputs": [],
   "source": [
    "from sklearn.feature_selection import SelectKBest\n",
    "from sklearn.feature_selection import chi2\n",
    "bestfeatures = SelectKBest(score_func=chi2, k=26)\n",
    "fit = bestfeatures.fit(X,Y)"
   ]
  },
  {
   "cell_type": "code",
   "execution_count": 1168,
   "metadata": {},
   "outputs": [],
   "source": [
    "dfscores = pd.DataFrame(fit.scores_)\n",
    "dfcolumns = pd.DataFrame(X.columns)"
   ]
  },
  {
   "cell_type": "code",
   "execution_count": 1169,
   "metadata": {},
   "outputs": [],
   "source": [
    "#concat two dataframes for better visualization \n",
    "featureScores = pd.concat([dfcolumns,dfscores],axis=1)\n",
    "featureScores.columns = ['Specs','Score']  #naming the dataframe columns"
   ]
  },
  {
   "cell_type": "code",
   "execution_count": 1170,
   "metadata": {},
   "outputs": [
    {
     "data": {
      "text/html": [
       "<div>\n",
       "<style scoped>\n",
       "    .dataframe tbody tr th:only-of-type {\n",
       "        vertical-align: middle;\n",
       "    }\n",
       "\n",
       "    .dataframe tbody tr th {\n",
       "        vertical-align: top;\n",
       "    }\n",
       "\n",
       "    .dataframe thead th {\n",
       "        text-align: right;\n",
       "    }\n",
       "</style>\n",
       "<table border=\"1\" class=\"dataframe\">\n",
       "  <thead>\n",
       "    <tr style=\"text-align: right;\">\n",
       "      <th></th>\n",
       "      <th>Specs</th>\n",
       "      <th>Score</th>\n",
       "    </tr>\n",
       "  </thead>\n",
       "  <tbody>\n",
       "    <tr>\n",
       "      <th>0</th>\n",
       "      <td>lead_time</td>\n",
       "      <td>993592.473544</td>\n",
       "    </tr>\n",
       "    <tr>\n",
       "      <th>1</th>\n",
       "      <td>arrival_date_year</td>\n",
       "      <td>0.014919</td>\n",
       "    </tr>\n",
       "    <tr>\n",
       "      <th>2</th>\n",
       "      <td>arrival_date_month</td>\n",
       "      <td>3.776593</td>\n",
       "    </tr>\n",
       "    <tr>\n",
       "      <th>3</th>\n",
       "      <td>arrival_date_week_number</td>\n",
       "      <td>0.050158</td>\n",
       "    </tr>\n",
       "    <tr>\n",
       "      <th>4</th>\n",
       "      <td>arrival_date_day_of_month</td>\n",
       "      <td>21.429285</td>\n",
       "    </tr>\n",
       "    <tr>\n",
       "      <th>5</th>\n",
       "      <td>meal</td>\n",
       "      <td>0.302379</td>\n",
       "    </tr>\n",
       "    <tr>\n",
       "      <th>6</th>\n",
       "      <td>country</td>\n",
       "      <td>118462.387397</td>\n",
       "    </tr>\n",
       "    <tr>\n",
       "      <th>7</th>\n",
       "      <td>market_segment</td>\n",
       "      <td>121.699764</td>\n",
       "    </tr>\n",
       "    <tr>\n",
       "      <th>8</th>\n",
       "      <td>distribution_channel</td>\n",
       "      <td>1050.416699</td>\n",
       "    </tr>\n",
       "    <tr>\n",
       "      <th>9</th>\n",
       "      <td>is_repeated_guest</td>\n",
       "      <td>626.335120</td>\n",
       "    </tr>\n",
       "    <tr>\n",
       "      <th>10</th>\n",
       "      <td>previous_cancellations</td>\n",
       "      <td>13308.635524</td>\n",
       "    </tr>\n",
       "    <tr>\n",
       "      <th>11</th>\n",
       "      <td>previous_bookings_not_canceled</td>\n",
       "      <td>5265.944131</td>\n",
       "    </tr>\n",
       "    <tr>\n",
       "      <th>12</th>\n",
       "      <td>reserved_room_type</td>\n",
       "      <td>2375.606429</td>\n",
       "    </tr>\n",
       "    <tr>\n",
       "      <th>13</th>\n",
       "      <td>assigned_room_type</td>\n",
       "      <td>10970.561931</td>\n",
       "    </tr>\n",
       "    <tr>\n",
       "      <th>14</th>\n",
       "      <td>booking_changes</td>\n",
       "      <td>3780.832251</td>\n",
       "    </tr>\n",
       "    <tr>\n",
       "      <th>15</th>\n",
       "      <td>deposit_type</td>\n",
       "      <td>22388.357133</td>\n",
       "    </tr>\n",
       "    <tr>\n",
       "      <th>16</th>\n",
       "      <td>agent</td>\n",
       "      <td>299537.165228</td>\n",
       "    </tr>\n",
       "    <tr>\n",
       "      <th>17</th>\n",
       "      <td>company</td>\n",
       "      <td>4.921039</td>\n",
       "    </tr>\n",
       "    <tr>\n",
       "      <th>18</th>\n",
       "      <td>days_in_waiting_list</td>\n",
       "      <td>59999.006215</td>\n",
       "    </tr>\n",
       "    <tr>\n",
       "      <th>19</th>\n",
       "      <td>customer_type</td>\n",
       "      <td>82.064674</td>\n",
       "    </tr>\n",
       "    <tr>\n",
       "      <th>20</th>\n",
       "      <td>adr</td>\n",
       "      <td>10653.076662</td>\n",
       "    </tr>\n",
       "    <tr>\n",
       "      <th>21</th>\n",
       "      <td>required_car_parking_spaces</td>\n",
       "      <td>3400.762344</td>\n",
       "    </tr>\n",
       "    <tr>\n",
       "      <th>22</th>\n",
       "      <td>total_of_special_requests</td>\n",
       "      <td>6409.492413</td>\n",
       "    </tr>\n",
       "    <tr>\n",
       "      <th>23</th>\n",
       "      <td>reservation_status</td>\n",
       "      <td>30251.465360</td>\n",
       "    </tr>\n",
       "    <tr>\n",
       "      <th>24</th>\n",
       "      <td>Total_nights</td>\n",
       "      <td>32.882463</td>\n",
       "    </tr>\n",
       "    <tr>\n",
       "      <th>25</th>\n",
       "      <td>No_of_persons</td>\n",
       "      <td>30.029313</td>\n",
       "    </tr>\n",
       "  </tbody>\n",
       "</table>\n",
       "</div>"
      ],
      "text/plain": [
       "                             Specs          Score\n",
       "0                        lead_time  993592.473544\n",
       "1                arrival_date_year       0.014919\n",
       "2               arrival_date_month       3.776593\n",
       "3         arrival_date_week_number       0.050158\n",
       "4        arrival_date_day_of_month      21.429285\n",
       "5                             meal       0.302379\n",
       "6                          country  118462.387397\n",
       "7                   market_segment     121.699764\n",
       "8             distribution_channel    1050.416699\n",
       "9                is_repeated_guest     626.335120\n",
       "10          previous_cancellations   13308.635524\n",
       "11  previous_bookings_not_canceled    5265.944131\n",
       "12              reserved_room_type    2375.606429\n",
       "13              assigned_room_type   10970.561931\n",
       "14                 booking_changes    3780.832251\n",
       "15                    deposit_type   22388.357133\n",
       "16                           agent  299537.165228\n",
       "17                         company       4.921039\n",
       "18            days_in_waiting_list   59999.006215\n",
       "19                   customer_type      82.064674\n",
       "20                             adr   10653.076662\n",
       "21     required_car_parking_spaces    3400.762344\n",
       "22       total_of_special_requests    6409.492413\n",
       "23              reservation_status   30251.465360\n",
       "24                    Total_nights      32.882463\n",
       "25                   No_of_persons      30.029313"
      ]
     },
     "execution_count": 1170,
     "metadata": {},
     "output_type": "execute_result"
    }
   ],
   "source": [
    "featureScores"
   ]
  },
  {
   "cell_type": "code",
   "execution_count": 1171,
   "metadata": {},
   "outputs": [],
   "source": [
    "# Droping less scored column\n",
    "\n",
    "train_data = train_data.drop(['arrival_date_year','arrival_date_week_number','meal'],axis = 1)"
   ]
  },
  {
   "cell_type": "code",
   "execution_count": 1172,
   "metadata": {},
   "outputs": [],
   "source": [
    "test_data_new = test_data_new.drop(['arrival_date_year','arrival_date_week_number','meal'],axis = 1)"
   ]
  },
  {
   "cell_type": "code",
   "execution_count": 1173,
   "metadata": {},
   "outputs": [
    {
     "data": {
      "text/plain": [
       "((102436, 24), (9999, 24))"
      ]
     },
     "execution_count": 1173,
     "metadata": {},
     "output_type": "execute_result"
    }
   ],
   "source": [
    "train_data.shape , test_data_new.shape"
   ]
  },
  {
   "cell_type": "markdown",
   "metadata": {},
   "source": [
    "### Model Building"
   ]
  },
  {
   "cell_type": "code",
   "execution_count": 1174,
   "metadata": {},
   "outputs": [],
   "source": [
    "#separting dependent and independent features.\n",
    "target=train_data['is_canceled']\n",
    "inputs=train_data.drop(['is_canceled'],axis=1)"
   ]
  },
  {
   "cell_type": "code",
   "execution_count": 1175,
   "metadata": {},
   "outputs": [],
   "source": [
    "#Standardization\n",
    "from sklearn.preprocessing import MinMaxScaler\n",
    "scaler = MinMaxScaler()\n",
    "scaler.fit(inputs)\n",
    "X = scaler.transform(inputs)"
   ]
  },
  {
   "cell_type": "code",
   "execution_count": 1176,
   "metadata": {},
   "outputs": [],
   "source": [
    "#Splitting train data into tarin & test for building and testing model.\n",
    "from sklearn.model_selection import train_test_split\n",
    "x_train, x_test, y_train, y_test = train_test_split(X,target, test_size=0.10, random_state=67)"
   ]
  },
  {
   "cell_type": "markdown",
   "metadata": {},
   "source": [
    "#### Random Forest"
   ]
  },
  {
   "cell_type": "code",
   "execution_count": 1177,
   "metadata": {},
   "outputs": [
    {
     "name": "stderr",
     "output_type": "stream",
     "text": [
      "C:\\Users\\suyog\\Anaconda3\\lib\\site-packages\\sklearn\\ensemble\\forest.py:245: FutureWarning: The default value of n_estimators will change from 10 in version 0.20 to 100 in 0.22.\n",
      "  \"10 in version 0.20 to 100 in 0.22.\", FutureWarning)\n"
     ]
    }
   ],
   "source": [
    "# model 1\n",
    "from sklearn.ensemble import RandomForestClassifier\n",
    "rf_class = RandomForestClassifier()\n",
    "rf_class.fit(x_train,y_train)\n",
    "y_pred=rf_class.predict(x_test)\n"
   ]
  },
  {
   "cell_type": "code",
   "execution_count": 1178,
   "metadata": {},
   "outputs": [],
   "source": [
    "y_pred_rand = rf_class.predict(x_test)"
   ]
  },
  {
   "cell_type": "code",
   "execution_count": 1179,
   "metadata": {},
   "outputs": [
    {
     "data": {
      "text/plain": [
       "0.9990238188207732"
      ]
     },
     "execution_count": 1179,
     "metadata": {},
     "output_type": "execute_result"
    }
   ],
   "source": [
    "from sklearn.metrics import accuracy_score\n",
    "accuracy_score(y_test,y_pred_rand)"
   ]
  },
  {
   "cell_type": "code",
   "execution_count": 1180,
   "metadata": {},
   "outputs": [
    {
     "data": {
      "text/plain": [
       "array([[6781,    1],\n",
       "       [   9, 3453]], dtype=int64)"
      ]
     },
     "execution_count": 1180,
     "metadata": {},
     "output_type": "execute_result"
    }
   ],
   "source": [
    "from sklearn.metrics import confusion_matrix\n",
    "confusion_matrix(y_test,y_pred_rand)"
   ]
  },
  {
   "cell_type": "markdown",
   "metadata": {},
   "source": [
    "#### Logistic Regression"
   ]
  },
  {
   "cell_type": "code",
   "execution_count": 1184,
   "metadata": {},
   "outputs": [
    {
     "data": {
      "text/plain": [
       "LogisticRegression(C=100, class_weight=None, dual=False, fit_intercept=True,\n",
       "                   intercept_scaling=1, l1_ratio=None, max_iter=100,\n",
       "                   multi_class='warn', n_jobs=None, penalty='l2',\n",
       "                   random_state=None, solver='newton-cg', tol=0.0001, verbose=0,\n",
       "                   warm_start=False)"
      ]
     },
     "execution_count": 1184,
     "metadata": {},
     "output_type": "execute_result"
    }
   ],
   "source": [
    "# model2\n",
    "from sklearn.linear_model import LogisticRegression\n",
    "log_model = LogisticRegression(C = 100, penalty ='l2', solver = 'newton-cg')\n",
    "log_model.fit(x_train,y_train)"
   ]
  },
  {
   "cell_type": "code",
   "execution_count": 1185,
   "metadata": {},
   "outputs": [],
   "source": [
    "y_pred_lr = log_model.predict(x_test)"
   ]
  },
  {
   "cell_type": "code",
   "execution_count": 1186,
   "metadata": {},
   "outputs": [
    {
     "data": {
      "text/plain": [
       "0.9908238969152675"
      ]
     },
     "execution_count": 1186,
     "metadata": {},
     "output_type": "execute_result"
    }
   ],
   "source": [
    "accuracy_score(y_test,y_pred_lr)"
   ]
  },
  {
   "cell_type": "markdown",
   "metadata": {},
   "source": [
    "#### Gradient Boosting"
   ]
  },
  {
   "cell_type": "code",
   "execution_count": 1187,
   "metadata": {},
   "outputs": [
    {
     "data": {
      "text/plain": [
       "GradientBoostingClassifier(criterion='friedman_mse', init=None,\n",
       "                           learning_rate=0.1, loss='deviance', max_depth=3,\n",
       "                           max_features=None, max_leaf_nodes=None,\n",
       "                           min_impurity_decrease=0.0, min_impurity_split=None,\n",
       "                           min_samples_leaf=1, min_samples_split=2,\n",
       "                           min_weight_fraction_leaf=0.0, n_estimators=100,\n",
       "                           n_iter_no_change=None, presort='auto',\n",
       "                           random_state=None, subsample=1.0, tol=0.0001,\n",
       "                           validation_fraction=0.1, verbose=0,\n",
       "                           warm_start=False)"
      ]
     },
     "execution_count": 1187,
     "metadata": {},
     "output_type": "execute_result"
    }
   ],
   "source": [
    "# model 3\n",
    "from sklearn.ensemble import GradientBoostingClassifier\n",
    "gb = GradientBoostingClassifier()\n",
    "gb.fit(x_train,y_train)"
   ]
  },
  {
   "cell_type": "code",
   "execution_count": 1188,
   "metadata": {},
   "outputs": [],
   "source": [
    "y_pred_gb = gb.predict(x_test)"
   ]
  },
  {
   "cell_type": "code",
   "execution_count": 1189,
   "metadata": {},
   "outputs": [
    {
     "data": {
      "text/plain": [
       "1.0"
      ]
     },
     "execution_count": 1189,
     "metadata": {},
     "output_type": "execute_result"
    }
   ],
   "source": [
    "accuracy_score(y_test,y_pred_gb)"
   ]
  },
  {
   "cell_type": "markdown",
   "metadata": {},
   "source": [
    "#### KNN"
   ]
  },
  {
   "cell_type": "code",
   "execution_count": 1190,
   "metadata": {},
   "outputs": [],
   "source": [
    "# model 4\n",
    "from sklearn.neighbors import KNeighborsClassifier\n",
    "neigh = KNeighborsClassifier()"
   ]
  },
  {
   "cell_type": "code",
   "execution_count": 1191,
   "metadata": {},
   "outputs": [
    {
     "data": {
      "text/plain": [
       "KNeighborsClassifier(algorithm='auto', leaf_size=30, metric='minkowski',\n",
       "                     metric_params=None, n_jobs=None, n_neighbors=5, p=2,\n",
       "                     weights='uniform')"
      ]
     },
     "execution_count": 1191,
     "metadata": {},
     "output_type": "execute_result"
    }
   ],
   "source": [
    "neigh.fit(x_train,y_train)"
   ]
  },
  {
   "cell_type": "code",
   "execution_count": 1192,
   "metadata": {},
   "outputs": [
    {
     "data": {
      "text/plain": [
       "0.9978524014057009"
      ]
     },
     "execution_count": 1192,
     "metadata": {},
     "output_type": "execute_result"
    }
   ],
   "source": [
    "y_pred_knn = neigh.predict(x_test)\n",
    "accuracy_score(y_test,y_pred_knn)"
   ]
  },
  {
   "cell_type": "markdown",
   "metadata": {},
   "source": [
    "### Checking on test data"
   ]
  },
  {
   "cell_type": "code",
   "execution_count": 1199,
   "metadata": {},
   "outputs": [],
   "source": [
    "test = test_data_new.drop(['is_canceled'],axis = 1)\n",
    "prediction = rf_class.predict(test)"
   ]
  },
  {
   "cell_type": "code",
   "execution_count": 1200,
   "metadata": {},
   "outputs": [],
   "source": [
    "actual = test_data_new['is_canceled']"
   ]
  },
  {
   "cell_type": "code",
   "execution_count": 1201,
   "metadata": {},
   "outputs": [
    {
     "data": {
      "text/plain": [
       "0.8425842584258426"
      ]
     },
     "execution_count": 1201,
     "metadata": {},
     "output_type": "execute_result"
    }
   ],
   "source": [
    "accuracy_score(actual,prediction)"
   ]
  },
  {
   "cell_type": "code",
   "execution_count": 1202,
   "metadata": {},
   "outputs": [
    {
     "data": {
      "text/html": [
       "<div>\n",
       "<style scoped>\n",
       "    .dataframe tbody tr th:only-of-type {\n",
       "        vertical-align: middle;\n",
       "    }\n",
       "\n",
       "    .dataframe tbody tr th {\n",
       "        vertical-align: top;\n",
       "    }\n",
       "\n",
       "    .dataframe thead th {\n",
       "        text-align: right;\n",
       "    }\n",
       "</style>\n",
       "<table border=\"1\" class=\"dataframe\">\n",
       "  <thead>\n",
       "    <tr style=\"text-align: right;\">\n",
       "      <th></th>\n",
       "      <th>is_canceled</th>\n",
       "      <th>lead_time</th>\n",
       "      <th>arrival_date_month</th>\n",
       "      <th>arrival_date_day_of_month</th>\n",
       "      <th>country</th>\n",
       "      <th>market_segment</th>\n",
       "      <th>distribution_channel</th>\n",
       "      <th>is_repeated_guest</th>\n",
       "      <th>previous_cancellations</th>\n",
       "      <th>previous_bookings_not_canceled</th>\n",
       "      <th>...</th>\n",
       "      <th>agent</th>\n",
       "      <th>company</th>\n",
       "      <th>days_in_waiting_list</th>\n",
       "      <th>customer_type</th>\n",
       "      <th>adr</th>\n",
       "      <th>required_car_parking_spaces</th>\n",
       "      <th>total_of_special_requests</th>\n",
       "      <th>reservation_status</th>\n",
       "      <th>Total_nights</th>\n",
       "      <th>No_of_persons</th>\n",
       "    </tr>\n",
       "  </thead>\n",
       "  <tbody>\n",
       "    <tr>\n",
       "      <th>0</th>\n",
       "      <td>1</td>\n",
       "      <td>1</td>\n",
       "      <td>3</td>\n",
       "      <td>4</td>\n",
       "      <td>133</td>\n",
       "      <td>6</td>\n",
       "      <td>3</td>\n",
       "      <td>0</td>\n",
       "      <td>0</td>\n",
       "      <td>0</td>\n",
       "      <td>...</td>\n",
       "      <td>240</td>\n",
       "      <td>185</td>\n",
       "      <td>0</td>\n",
       "      <td>2</td>\n",
       "      <td>48.0</td>\n",
       "      <td>0</td>\n",
       "      <td>0</td>\n",
       "      <td>0</td>\n",
       "      <td>1</td>\n",
       "      <td>2</td>\n",
       "    </tr>\n",
       "    <tr>\n",
       "      <th>1</th>\n",
       "      <td>1</td>\n",
       "      <td>1</td>\n",
       "      <td>3</td>\n",
       "      <td>4</td>\n",
       "      <td>133</td>\n",
       "      <td>6</td>\n",
       "      <td>3</td>\n",
       "      <td>0</td>\n",
       "      <td>0</td>\n",
       "      <td>0</td>\n",
       "      <td>...</td>\n",
       "      <td>240</td>\n",
       "      <td>185</td>\n",
       "      <td>0</td>\n",
       "      <td>2</td>\n",
       "      <td>43.0</td>\n",
       "      <td>0</td>\n",
       "      <td>0</td>\n",
       "      <td>0</td>\n",
       "      <td>1</td>\n",
       "      <td>1</td>\n",
       "    </tr>\n",
       "    <tr>\n",
       "      <th>2</th>\n",
       "      <td>1</td>\n",
       "      <td>0</td>\n",
       "      <td>3</td>\n",
       "      <td>4</td>\n",
       "      <td>133</td>\n",
       "      <td>3</td>\n",
       "      <td>1</td>\n",
       "      <td>0</td>\n",
       "      <td>0</td>\n",
       "      <td>0</td>\n",
       "      <td>...</td>\n",
       "      <td>75</td>\n",
       "      <td>185</td>\n",
       "      <td>0</td>\n",
       "      <td>2</td>\n",
       "      <td>48.0</td>\n",
       "      <td>0</td>\n",
       "      <td>2</td>\n",
       "      <td>0</td>\n",
       "      <td>1</td>\n",
       "      <td>2</td>\n",
       "    </tr>\n",
       "    <tr>\n",
       "      <th>3</th>\n",
       "      <td>1</td>\n",
       "      <td>1</td>\n",
       "      <td>3</td>\n",
       "      <td>4</td>\n",
       "      <td>133</td>\n",
       "      <td>6</td>\n",
       "      <td>3</td>\n",
       "      <td>0</td>\n",
       "      <td>0</td>\n",
       "      <td>0</td>\n",
       "      <td>...</td>\n",
       "      <td>240</td>\n",
       "      <td>185</td>\n",
       "      <td>0</td>\n",
       "      <td>2</td>\n",
       "      <td>43.0</td>\n",
       "      <td>0</td>\n",
       "      <td>0</td>\n",
       "      <td>0</td>\n",
       "      <td>1</td>\n",
       "      <td>1</td>\n",
       "    </tr>\n",
       "    <tr>\n",
       "      <th>4</th>\n",
       "      <td>1</td>\n",
       "      <td>29</td>\n",
       "      <td>3</td>\n",
       "      <td>4</td>\n",
       "      <td>133</td>\n",
       "      <td>6</td>\n",
       "      <td>3</td>\n",
       "      <td>0</td>\n",
       "      <td>0</td>\n",
       "      <td>0</td>\n",
       "      <td>...</td>\n",
       "      <td>242</td>\n",
       "      <td>185</td>\n",
       "      <td>0</td>\n",
       "      <td>2</td>\n",
       "      <td>74.1</td>\n",
       "      <td>0</td>\n",
       "      <td>2</td>\n",
       "      <td>0</td>\n",
       "      <td>2</td>\n",
       "      <td>2</td>\n",
       "    </tr>\n",
       "  </tbody>\n",
       "</table>\n",
       "<p>5 rows × 24 columns</p>\n",
       "</div>"
      ],
      "text/plain": [
       "   is_canceled  lead_time  arrival_date_month  arrival_date_day_of_month  \\\n",
       "0            1          1                   3                          4   \n",
       "1            1          1                   3                          4   \n",
       "2            1          0                   3                          4   \n",
       "3            1          1                   3                          4   \n",
       "4            1         29                   3                          4   \n",
       "\n",
       "   country  market_segment  distribution_channel  is_repeated_guest  \\\n",
       "0      133               6                     3                  0   \n",
       "1      133               6                     3                  0   \n",
       "2      133               3                     1                  0   \n",
       "3      133               6                     3                  0   \n",
       "4      133               6                     3                  0   \n",
       "\n",
       "   previous_cancellations  previous_bookings_not_canceled  ...  agent  \\\n",
       "0                       0                               0  ...    240   \n",
       "1                       0                               0  ...    240   \n",
       "2                       0                               0  ...     75   \n",
       "3                       0                               0  ...    240   \n",
       "4                       0                               0  ...    242   \n",
       "\n",
       "   company  days_in_waiting_list  customer_type   adr  \\\n",
       "0      185                     0              2  48.0   \n",
       "1      185                     0              2  43.0   \n",
       "2      185                     0              2  48.0   \n",
       "3      185                     0              2  43.0   \n",
       "4      185                     0              2  74.1   \n",
       "\n",
       "  required_car_parking_spaces  total_of_special_requests  reservation_status  \\\n",
       "0                           0                          0                   0   \n",
       "1                           0                          0                   0   \n",
       "2                           0                          2                   0   \n",
       "3                           0                          0                   0   \n",
       "4                           0                          2                   0   \n",
       "\n",
       "   Total_nights  No_of_persons  \n",
       "0             1              2  \n",
       "1             1              1  \n",
       "2             1              2  \n",
       "3             1              1  \n",
       "4             2              2  \n",
       "\n",
       "[5 rows x 24 columns]"
      ]
     },
     "execution_count": 1202,
     "metadata": {},
     "output_type": "execute_result"
    }
   ],
   "source": [
    "train_data.head()"
   ]
  },
  {
   "cell_type": "code",
   "execution_count": 1204,
   "metadata": {},
   "outputs": [
    {
     "data": {
      "text/plain": [
       "array([1], dtype=int64)"
      ]
     },
     "execution_count": 1204,
     "metadata": {},
     "output_type": "execute_result"
    }
   ],
   "source": [
    "rf_class.predict([[1,3,4,133,6,3,0,0,0,0,0,0,0,240,185,0,2,48,0,0,0,1,2]])"
   ]
  },
  {
   "cell_type": "code",
   "execution_count": 1205,
   "metadata": {},
   "outputs": [],
   "source": [
    "import pickle\n",
    "file = open(\"rf_class_model.pkl\",'wb')\n",
    "pickle.dump(rf_class,file)\n"
   ]
  },
  {
   "cell_type": "code",
   "execution_count": 1214,
   "metadata": {},
   "outputs": [],
   "source": [
    "df = pd.DataFrame(prediction, columns=['is_canceled']).to_csv('submission.csv')"
   ]
  }
 ],
 "metadata": {
  "kernelspec": {
   "display_name": "Python 3",
   "language": "python",
   "name": "python3"
  },
  "language_info": {
   "codemirror_mode": {
    "name": "ipython",
    "version": 3
   },
   "file_extension": ".py",
   "mimetype": "text/x-python",
   "name": "python",
   "nbconvert_exporter": "python",
   "pygments_lexer": "ipython3",
   "version": "3.7.3"
  }
 },
 "nbformat": 4,
 "nbformat_minor": 2
}
